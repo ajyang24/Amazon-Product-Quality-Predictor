{
 "cells": [
  {
   "cell_type": "code",
   "execution_count": 49,
   "metadata": {},
   "outputs": [],
   "source": [
    "#https://www.kaggle.com/code/purvitsharma/amazon-reviews-bidirectional-lstm\n",
    "import pandas as pd\n",
    "import numpy as np\n",
    "import matplotlib.pyplot as plt\n",
    "from vaderSentiment.vaderSentiment import SentimentIntensityAnalyzer\n",
    "#%matplotlib inline\n",
    "plt.style.use(\"fivethirtyeight\")\n",
    "import seaborn as sns\n",
    "sns.set_style(\"darkgrid\")\n",
    "#from wordcloud import WordCloud\n",
    "from sklearn.model_selection import train_test_split\n",
    "from sklearn.feature_extraction.text import TfidfVectorizer\n",
    "from sklearn.metrics import roc_auc_score\n",
    "import re, string, nltk\n",
    "#import emoji, bz2\n",
    "#import emoji\n",
    "from nltk.corpus import stopwords\n",
    "from nltk.stem.wordnet import WordNetLemmatizer\n",
    "from nltk import word_tokenize\n",
    "from sklearn.ensemble import RandomForestClassifier, AdaBoostClassifier, GradientBoostingClassifier\n",
    "from sklearn.tree import DecisionTreeClassifier\n",
    "#import keras\n",
    "#import tensorflow\n",
    "from tensorflow import keras\n",
    "from keras.models import Sequential\n",
    "from keras.layers import Dense, LSTM, Bidirectional, Dropout\n",
    "from keras.layers import Embedding\n",
    "#from keras.preprocessing.sequence import pad_sequences\n",
    "from sklearn.metrics import accuracy_score,confusion_matrix, classification_report\n",
    "import warnings\n",
    "warnings.filterwarnings(\"ignore\")\n",
    "import pickle"
   ]
  },
  {
   "cell_type": "code",
   "execution_count": 18,
   "metadata": {},
   "outputs": [],
   "source": [
    "\n",
    "product_training = pd.read_json(\"devided_dataset_v2/Grocery_and_Gourmet_Food/train/product_training.json\")\n",
    "review_training = pd.read_json(\"devided_dataset_v2/Grocery_and_Gourmet_Food/train/review_training.json\")\n",
    "\n",
    "product_training = product_training[0:10000]\n",
    "review_training = review_training[0:10000]\n",
    "\n",
    "# print(review_training['reviewText'])\n",
    "#print(review_training)\n",
    "#print(product_training)"
   ]
  },
  {
   "cell_type": "code",
   "execution_count": 19,
   "metadata": {},
   "outputs": [
    {
     "name": "stdout",
     "output_type": "stream",
     "text": [
      "                                  asin                        reviewerID  \\\n",
      "0     71F1F9B34E46A7F11E8B72C26CA861B6  D0A66D9D59DFB8808DE637FA50025550   \n",
      "1     1755243A708579B595D1AAAFBADD7725  8D0A76D2383DCFC2B0DA3189FCC53490   \n",
      "2     982EB9BA1A12C03C3635DCD2A6CFD79E  CEDFFFFA048A21A94B2272349949BD08   \n",
      "3     08D86545D56A7C392B81B96F73DA85C0  8686C793EA21D71A574F18A847A733AC   \n",
      "4     9A8BE2D7907DA443B9A72E712290C0B2  DE9971A7DF0055FCC6BF78AA387AEDA6   \n",
      "...                                ...                               ...   \n",
      "9995  5BEA67880D35E5C94B9A9BF720C29E9F  C51CE63A071D786E3F5BE5A79A371710   \n",
      "9996  1053A7C830A62D204464573A0FC31E5E  364ECD45C16694CDB964B4BDB9371332   \n",
      "9997  E7D59B55E92072E3919364F8DC2FC214  F7B3C9638D5A7F9CB830AD21E24C650D   \n",
      "9998  98E3ECADA7EFF0BCCD14E86CC911BE71  1324780ADB9EF5DF8439055C6EA65983   \n",
      "9999  89CE0ACE3A66D13B27D6FE3ACC4BE57A  4A382DA4950421DB11838CFE5BEA0E49   \n",
      "\n",
      "      unixReviewTime  vote  verified   reviewTime  \\\n",
      "0         1438560000  None      True   08 3, 2015   \n",
      "1         1497139200  None      True  06 11, 2017   \n",
      "2         1452988800  None      True  01 17, 2016   \n",
      "3         1429056000  None      True  04 15, 2015   \n",
      "4         1358726400  None      True  01 21, 2013   \n",
      "...              ...   ...       ...          ...   \n",
      "9995      1478390400  None     False   11 6, 2016   \n",
      "9996      1505088000  None      True  09 11, 2017   \n",
      "9997      1511654400  None     False  11 26, 2017   \n",
      "9998      1437782400  None      True  07 25, 2015   \n",
      "9999      1399680000  None      True  05 10, 2014   \n",
      "\n",
      "                                                  style  \\\n",
      "0     {'Size:': ' 3.5-oz', 'Style:': ' Spinner Gift ...   \n",
      "1                           {'Package Quantity:': ' 1'}   \n",
      "2                                                  None   \n",
      "3     {'Size:': ' 16 Ounce', 'Flavor:': ' Light Asia...   \n",
      "4     {'Size:': ' 20 Count (Pack of 6)', 'Flavor:': ...   \n",
      "...                                                 ...   \n",
      "9995  {'Size:': ' 14.75 Ounce (Pack of 12)', 'Flavor...   \n",
      "9996           {'Package Type:': ' Standard Packaging'}   \n",
      "9997       {'Size:': ' 8 Ounce', 'Flavor:': ' Chopped'}   \n",
      "9998                                               None   \n",
      "9999  {'Size:': ' 100 Count (Pack of 5)', 'Flavor:':...   \n",
      "\n",
      "                          reviewerName  \\\n",
      "0     13BDF4D2B1DF0B4CB2CADE6A71D51E79   \n",
      "1     028BE8DD8A201156BBFDBA81ACA9091D   \n",
      "2     1814563D64BBA9CB329FDFA8432D5FAD   \n",
      "3     EF61F129EE2F20C379A5A11F8044ACC3   \n",
      "4     5C39B18D77D5F297FF92E4942E5522B5   \n",
      "...                                ...   \n",
      "9995  01D4848202A3C7697EC037B02B4EE4E8   \n",
      "9996  0D43741B664AC9C26ED8154366AD1467   \n",
      "9997  6A3B31C657DF5742F8CD8CF515ED92CE   \n",
      "9998  656EFAAB126AB3129780D9F254F0A30F   \n",
      "9999  B84C8CE8DBA041CEF912C1116F6B7236   \n",
      "\n",
      "                                             reviewText  \\\n",
      "0     These jelly beans were disgusting and perfect ...   \n",
      "1     Almost impossible to open, but the tea is firs...   \n",
      "2     These are really good, but I think they were a...   \n",
      "3                                                  good   \n",
      "4     I love all of Twinings teas.  This is my favor...   \n",
      "...                                                 ...   \n",
      "9995  I'm cleaning up an older relative's kitchen an...   \n",
      "9996                                         Love these   \n",
      "9997  These are yummy walnuts. I like how they came ...   \n",
      "9998                                              Tasty   \n",
      "9999  Best tasting tea that I've found. It's a bonus...   \n",
      "\n",
      "                                                summary image  \n",
      "0                                 Disgustingly perfect.  None  \n",
      "1                                                 Tasty  None  \n",
      "2     These are really good, but I think they were a...  None  \n",
      "3                                            Five Stars  None  \n",
      "4                                       Repeat Customer  None  \n",
      "...                                                 ...   ...  \n",
      "9995                           sketchy customer service  None  \n",
      "9996                                              Great  None  \n",
      "9997              Fisher Chef's natural chopped walnuts  None  \n",
      "9998                                         Five Stars  None  \n",
      "9999                   Best Tasting Tea and Its Organic  None  \n",
      "\n",
      "[9996 rows x 11 columns]\n"
     ]
    }
   ],
   "source": [
    "#review_training = review_training.dropna()\n",
    "review_training1 = review_training[~review_training['reviewText'].isnull()]\n",
    "#eview_training1 = review_training\n",
    "print(review_training1)"
   ]
  },
  {
   "cell_type": "code",
   "execution_count": 38,
   "metadata": {},
   "outputs": [
    {
     "name": "stdout",
     "output_type": "stream",
     "text": [
      "                                  asin                        reviewerID  \\\n",
      "0     71F1F9B34E46A7F11E8B72C26CA861B6  D0A66D9D59DFB8808DE637FA50025550   \n",
      "1     1755243A708579B595D1AAAFBADD7725  8D0A76D2383DCFC2B0DA3189FCC53490   \n",
      "2     982EB9BA1A12C03C3635DCD2A6CFD79E  CEDFFFFA048A21A94B2272349949BD08   \n",
      "3     08D86545D56A7C392B81B96F73DA85C0  8686C793EA21D71A574F18A847A733AC   \n",
      "4     9A8BE2D7907DA443B9A72E712290C0B2  DE9971A7DF0055FCC6BF78AA387AEDA6   \n",
      "...                                ...                               ...   \n",
      "4995  135AE7982B3DA88FC2FFE2C2E01F459F  87987FC38EBC3AA041F73B07CF0B0619   \n",
      "4996  2745501E4E72F413B5A4D57497FB103D  B9ECCF5C90192041883612EA8084C74E   \n",
      "4997  544AD3792EAEDAB81BCC3852888229CC  89CCBF4312085987B3904C4CFA4EA661   \n",
      "4998  E28B5A3AF6A4B81743EA7099B96FCE83  C698CC10E014E30617E9C2CE4E4C0EFD   \n",
      "4999  F237E7AE3418C0DF1B715CCB16765203  C0DF2BE0169038C1333AC0D14A3CEC69   \n",
      "\n",
      "      unixReviewTime  vote  verified   reviewTime  \\\n",
      "0         1438560000  None      True   08 3, 2015   \n",
      "1         1497139200  None      True  06 11, 2017   \n",
      "2         1452988800  None      True  01 17, 2016   \n",
      "3         1429056000  None      True  04 15, 2015   \n",
      "4         1358726400  None      True  01 21, 2013   \n",
      "...              ...   ...       ...          ...   \n",
      "4995      1479168000  None      True  11 15, 2016   \n",
      "4996      1515628800  None      True  01 11, 2018   \n",
      "4997      1525392000  None      True   05 4, 2018   \n",
      "4998      1280707200     5      True   08 2, 2010   \n",
      "4999      1462752000  None      True   05 9, 2016   \n",
      "\n",
      "                                                  style  \\\n",
      "0     {'Size:': ' 3.5-oz', 'Style:': ' Spinner Gift ...   \n",
      "1                           {'Package Quantity:': ' 1'}   \n",
      "2                                                  None   \n",
      "3     {'Size:': ' 16 Ounce', 'Flavor:': ' Light Asia...   \n",
      "4     {'Size:': ' 20 Count (Pack of 6)', 'Flavor:': ...   \n",
      "...                                                 ...   \n",
      "4995  {'Size:': ' 1.5 Ounce (Pack of 24)', 'Flavor:'...   \n",
      "4996                           {'Size:': ' 1Lb (453g)'}   \n",
      "4997                  {'Flavor:': ' Spaghetti Variety'}   \n",
      "4998  {'Size:': ' Pack of 24', 'Flavor:': ' Organic ...   \n",
      "4999                                               None   \n",
      "\n",
      "                          reviewerName  \\\n",
      "0     13BDF4D2B1DF0B4CB2CADE6A71D51E79   \n",
      "1     028BE8DD8A201156BBFDBA81ACA9091D   \n",
      "2     1814563D64BBA9CB329FDFA8432D5FAD   \n",
      "3     EF61F129EE2F20C379A5A11F8044ACC3   \n",
      "4     5C39B18D77D5F297FF92E4942E5522B5   \n",
      "...                                ...   \n",
      "4995  760C63E8E5E8DC3FAA01878D37BA5678   \n",
      "4996  44331F058FFD8D2FA056121B6007DC0E   \n",
      "4997  D963EFDB69D8387CF41CC3BA03016CB8   \n",
      "4998  D2383DA31D111CE3AB2E6E791AD20067   \n",
      "4999  7F48E1C998959C2CB5AEEE0005C596AC   \n",
      "\n",
      "                                             reviewText  \\\n",
      "0     These jelly beans were disgusting and perfect ...   \n",
      "1     Almost impossible to open, but the tea is firs...   \n",
      "2     These are really good, but I think they were a...   \n",
      "3                                                  good   \n",
      "4     I love all of Twinings teas.  This is my favor...   \n",
      "...                                                 ...   \n",
      "4995  very nice and tasty kettle chips, however CAPE...   \n",
      "4996  Good flavor, but not much salt. Almost no salt...   \n",
      "4997  I really liked the normal thickness noodles, b...   \n",
      "4998  After reading about the effect soy products ha...   \n",
      "4999                                             Decent   \n",
      "\n",
      "                                                summary image  \n",
      "0                                 Disgustingly perfect.  None  \n",
      "1                                                 Tasty  None  \n",
      "2     These are really good, but I think they were a...  None  \n",
      "3                                            Five Stars  None  \n",
      "4                                       Repeat Customer  None  \n",
      "...                                                 ...   ...  \n",
      "4995                             Cape Cod  better value  None  \n",
      "4996                                         Four Stars  None  \n",
      "4997        I really liked the normal thickness noodles  None  \n",
      "4998                          Much better than soy milk  None  \n",
      "4999                                         Four Stars  None  \n",
      "\n",
      "[4997 rows x 11 columns]\n"
     ]
    }
   ],
   "source": [
    "print(review_training1)\n",
    "#print(review_training1['reviewText'])"
   ]
  },
  {
   "cell_type": "code",
   "execution_count": 20,
   "metadata": {},
   "outputs": [
    {
     "name": "stdout",
     "output_type": "stream",
     "text": [
      "                                             reviewText  awesomeness\n",
      "0     Almost impossible to open, but the tea is firs...            0\n",
      "1     These were given as token gifts to my accounts...            0\n",
      "2             Love these teas.  Would highly recommend.            0\n",
      "3                                                  good            0\n",
      "4     Arrived fresh. Delicious blend of spices.\\nNON...            1\n",
      "...                                                 ...          ...\n",
      "2413  Red Velvet is a stunning tea - flavors that ar...            0\n",
      "2414  Though I bought this as the purest Stevia I sa...            0\n",
      "2415  Well, this surprised me.......I don't care for...            1\n",
      "2416                                       Good quality            1\n",
      "2417                                         Love these            1\n",
      "\n",
      "[2418 rows x 2 columns]\n"
     ]
    }
   ],
   "source": [
    "def reshape_features(review_df, target_df):\n",
    "        # Change dict to df\n",
    "        #data_list = [(key, *values) for key, values in read_product.items()]\n",
    "        # Convert the list of tuples to a DataFrame\n",
    "        #feature_df = pd.DataFrame(data_list, columns=['asin', '0', '1'])\n",
    "        feature_df = pd.DataFrame(review_df, columns=['asin', 'reviewText'])\n",
    "        # Merge data frames\n",
    "        final_df = pd.merge(feature_df, target_df, on='asin')\n",
    "        final_df = pd.DataFrame(final_df, columns=['reviewText', 'awesomeness'])\n",
    "        return final_df\n",
    "\n",
    "review_df = review_training1\n",
    "target_df =  product_training[['asin','awesomeness']]\n",
    "review_training1 = reshape_features(review_df, target_df)\n",
    "print(review_training1)"
   ]
  },
  {
   "cell_type": "code",
   "execution_count": 50,
   "metadata": {},
   "outputs": [
    {
     "name": "stderr",
     "output_type": "stream",
     "text": [
      "[nltk_data] Downloading package stopwords to\n",
      "[nltk_data]     /Users/anishafujii/nltk_data...\n",
      "[nltk_data]   Package stopwords is already up-to-date!\n",
      "[nltk_data] Downloading package wordnet to\n",
      "[nltk_data]     /Users/anishafujii/nltk_data...\n",
      "[nltk_data]   Package wordnet is already up-to-date!\n",
      "[nltk_data] Downloading package omw-1.4 to\n",
      "[nltk_data]     /Users/anishafujii/nltk_data...\n",
      "[nltk_data]   Package omw-1.4 is already up-to-date!\n",
      "[nltk_data] Downloading package punkt to\n",
      "[nltk_data]     /Users/anishafujii/nltk_data...\n",
      "[nltk_data]   Package punkt is already up-to-date!\n"
     ]
    },
    {
     "data": {
      "text/plain": [
       "True"
      ]
     },
     "execution_count": 50,
     "metadata": {},
     "output_type": "execute_result"
    }
   ],
   "source": [
    "nltk.download('stopwords')\n",
    "nltk.download('wordnet')\n",
    "nltk.download('omw-1.4')\n",
    "#print(stopwords.words('english'))\n",
    "\n",
    "\n",
    "#used later \n",
    "nltk.download('punkt')"
   ]
  },
  {
   "cell_type": "code",
   "execution_count": 22,
   "metadata": {},
   "outputs": [
    {
     "name": "stdout",
     "output_type": "stream",
     "text": [
      "                                             reviewText  awesomeness\n",
      "0     almost impossible to open, but the tea is firs...            0\n",
      "1     these were given as token gifts to my accounts...            0\n",
      "2             love these teas   would highly recommend             0\n",
      "3                                                  good            0\n",
      "4     arrived fresh  delicious blend of spices \\nnon...            1\n",
      "...                                                 ...          ...\n",
      "2413  red velvet is a stunning tea   flavors that ar...            0\n",
      "2414  though i bought this as the purest stevia i sa...            0\n",
      "2415  well, this surprised me       i don't care for...            1\n",
      "2416                                       good quality            1\n",
      "2417                                         love these            1\n",
      "\n",
      "[2418 rows x 2 columns]\n"
     ]
    },
    {
     "data": {
      "text/html": [
       "<div>\n",
       "<style scoped>\n",
       "    .dataframe tbody tr th:only-of-type {\n",
       "        vertical-align: middle;\n",
       "    }\n",
       "\n",
       "    .dataframe tbody tr th {\n",
       "        vertical-align: top;\n",
       "    }\n",
       "\n",
       "    .dataframe thead th {\n",
       "        text-align: right;\n",
       "    }\n",
       "</style>\n",
       "<table border=\"1\" class=\"dataframe\">\n",
       "  <thead>\n",
       "    <tr style=\"text-align: right;\">\n",
       "      <th></th>\n",
       "      <th>reviewText</th>\n",
       "      <th>awesomeness</th>\n",
       "    </tr>\n",
       "  </thead>\n",
       "  <tbody>\n",
       "    <tr>\n",
       "      <th>0</th>\n",
       "      <td>almost impossible to open, but the tea is firs...</td>\n",
       "      <td>0</td>\n",
       "    </tr>\n",
       "    <tr>\n",
       "      <th>1</th>\n",
       "      <td>these were given as token gifts to my accounts...</td>\n",
       "      <td>0</td>\n",
       "    </tr>\n",
       "    <tr>\n",
       "      <th>2</th>\n",
       "      <td>love these teas   would highly recommend</td>\n",
       "      <td>0</td>\n",
       "    </tr>\n",
       "    <tr>\n",
       "      <th>3</th>\n",
       "      <td>good</td>\n",
       "      <td>0</td>\n",
       "    </tr>\n",
       "    <tr>\n",
       "      <th>4</th>\n",
       "      <td>arrived fresh  delicious blend of spices \\nnon...</td>\n",
       "      <td>1</td>\n",
       "    </tr>\n",
       "    <tr>\n",
       "      <th>...</th>\n",
       "      <td>...</td>\n",
       "      <td>...</td>\n",
       "    </tr>\n",
       "    <tr>\n",
       "      <th>2413</th>\n",
       "      <td>red velvet is a stunning tea   flavors that ar...</td>\n",
       "      <td>0</td>\n",
       "    </tr>\n",
       "    <tr>\n",
       "      <th>2414</th>\n",
       "      <td>though i bought this as the purest stevia i sa...</td>\n",
       "      <td>0</td>\n",
       "    </tr>\n",
       "    <tr>\n",
       "      <th>2415</th>\n",
       "      <td>well, this surprised me       i don't care for...</td>\n",
       "      <td>1</td>\n",
       "    </tr>\n",
       "    <tr>\n",
       "      <th>2416</th>\n",
       "      <td>good quality</td>\n",
       "      <td>1</td>\n",
       "    </tr>\n",
       "    <tr>\n",
       "      <th>2417</th>\n",
       "      <td>love these</td>\n",
       "      <td>1</td>\n",
       "    </tr>\n",
       "  </tbody>\n",
       "</table>\n",
       "<p>2418 rows × 2 columns</p>\n",
       "</div>"
      ],
      "text/plain": [
       "                                             reviewText  awesomeness\n",
       "0     almost impossible to open, but the tea is firs...            0\n",
       "1     these were given as token gifts to my accounts...            0\n",
       "2             love these teas   would highly recommend             0\n",
       "3                                                  good            0\n",
       "4     arrived fresh  delicious blend of spices \\nnon...            1\n",
       "...                                                 ...          ...\n",
       "2413  red velvet is a stunning tea   flavors that ar...            0\n",
       "2414  though i bought this as the purest stevia i sa...            0\n",
       "2415  well, this surprised me       i don't care for...            1\n",
       "2416                                       good quality            1\n",
       "2417                                         love these            1\n",
       "\n",
       "[2418 rows x 2 columns]"
      ]
     },
     "execution_count": 22,
     "metadata": {},
     "output_type": "execute_result"
    }
   ],
   "source": [
    "\n",
    "\n",
    "def clean_text(df, field):\n",
    "    df[field] = df[field].str.replace(r\"@\",\" at \")\n",
    "    df[field] = df[field].str.replace(\"#[^a-zA-Z0-9_]+\",\" \")\n",
    "    df[field] = df[field].str.replace(r\"[^a-zA-Z(),\\\"'\\n_]\",\" \")\n",
    "    df[field] = df[field].str.replace(r\"http\\S+\",\"\")\n",
    "    df[field] = df[field].str.lower()\n",
    "    #print(df[\"reviewText\"])\n",
    "    print(df)\n",
    "    return df\n",
    "\n",
    "clean_text(review_training1,\"reviewText\")"
   ]
  },
  {
   "cell_type": "code",
   "execution_count": 23,
   "metadata": {},
   "outputs": [
    {
     "name": "stdout",
     "output_type": "stream",
     "text": [
      "                                           reviewText  awesomeness  \\\n",
      "0   almost impossible to open, but the tea is firs...            0   \n",
      "1   these were given as token gifts to my accounts...            0   \n",
      "2           love these teas   would highly recommend             0   \n",
      "3                                                good            0   \n",
      "4   arrived fresh  delicious blend of spices \\nnon...            1   \n",
      "5                                 my favorite coffee             1   \n",
      "6   donut house light roast     my new favorite   ...            1   \n",
      "7   to the greater public, this is a perfect coffe...            1   \n",
      "8                          just don't like the taste             1   \n",
      "9                                         my favorite            1   \n",
      "10  this is my favorite matcha tea  i find it is s...            1   \n",
      "11  not too strong   just a nice, warm cup of tea ...            1   \n",
      "12                           very good    ) me gusta             1   \n",
      "13  i'm not a stranger to traditional medicinals, ...            1   \n",
      "14                                          delicious            1   \n",
      "\n",
      "                                      reviewTextClean  \n",
      "0               almost impossible open tea first rate  \n",
      "1    given token gift account tin nice told tea great  \n",
      "2                     love tea would highly recommend  \n",
      "3                                                good  \n",
      "4   arrived fresh delicious blend spice non gmo pr...  \n",
      "5                                     favorite coffee  \n",
      "6   donut house light roast new favorite saying so...  \n",
      "7   greater public perfect coffee often medium dar...  \n",
      "8                                          like taste  \n",
      "9                                            favorite  \n",
      "10  favorite matcha tea find super bright green co...  \n",
      "11  strong nice warm cup tea cockatiel love drink ...  \n",
      "12                                         good gusta  \n",
      "13  stranger traditional medicinals tried enjoyed ...  \n",
      "14                                          delicious  \n"
     ]
    }
   ],
   "source": [
    "# Applying Lemmmatizer to remove tenses from texts.\n",
    "lemmatizer = WordNetLemmatizer()\n",
    "\n",
    "def preprocess_text(text):\n",
    "    text = re.sub(r\"won\\'t\", \"will not\", text)\n",
    "    text = re.sub(r\"can\\'t\", \"can not\", text)\n",
    "    text = re.sub('[^a-zA-Z0-9]',' ',text)\n",
    "    #text= re.sub(emoji.get_emoji_regexp(),\"\",text)\n",
    "    text = [lemmatizer.lemmatize(word) for word in text.split() if not word in set(stopwords.words('english'))]\n",
    "    text = ' '.join(text)\n",
    "    return text\n",
    "\n",
    "# review_df = review_training\n",
    "# target_df =  product_training[['asin','awesomeness']]\n",
    "# final_df = reshape_features(review_df, target_df)\n",
    "#print(text['reviewText'])\n",
    "#preprocess_text(text['reviewText'])\n",
    "review_training1[\"reviewTextClean\"] = review_training1[\"reviewText\"].apply(preprocess_text)\n",
    "print(review_training1.head(15))\n",
    "#print(review_training1['reviewTextClean'])\n",
    "#print(final_df)"
   ]
  },
  {
   "cell_type": "code",
   "execution_count": null,
   "metadata": {},
   "outputs": [],
   "source": []
  },
  {
   "cell_type": "code",
   "execution_count": 24,
   "metadata": {},
   "outputs": [
    {
     "name": "stdout",
     "output_type": "stream",
     "text": [
      "      awesomeness                                    reviewTextClean\n",
      "0               0              almost impossible open tea first rate\n",
      "1               0   given token gift account tin nice told tea great\n",
      "2               0                    love tea would highly recommend\n",
      "3               0                                               good\n",
      "4               1  arrived fresh delicious blend spice non gmo pr...\n",
      "...           ...                                                ...\n",
      "2413            0  red velvet stunning tea flavor almost beyond d...\n",
      "2414            0  though bought purest stevia saw amazon uncut p...\n",
      "2415            1  well surprised care pearled barley love hull l...\n",
      "2416            1                                       good quality\n",
      "2417            1                                               love\n",
      "\n",
      "[2418 rows x 2 columns]\n"
     ]
    }
   ],
   "source": [
    "review_training = review_training1[[\"awesomeness\",'reviewTextClean']]\n",
    "print(review_training)"
   ]
  },
  {
   "cell_type": "code",
   "execution_count": 121,
   "metadata": {},
   "outputs": [
    {
     "name": "stdout",
     "output_type": "stream",
     "text": [
      "dictionary saved successfully to file\n"
     ]
    }
   ],
   "source": [
    "\n",
    "# Stores products into a pickle file for easier training process\n",
    "def store_data(data):\n",
    "    # Store Product dict to speed up sentiment analysis for future runs\n",
    "    with open('sentimentLSTM.pkl', 'wb') as fp:\n",
    "        pickle.dump(data, fp)\n",
    "        print('dictionary saved successfully to file')\n",
    "\n",
    "store_data(review_training)"
   ]
  },
  {
   "cell_type": "code",
   "execution_count": 51,
   "metadata": {},
   "outputs": [],
   "source": [
    "# Uses pickle file to recall features stored\n",
    "def recall_data():\n",
    "    # Recall stores sentiment analysis from file\n",
    "    read_product = {}\n",
    "    with open('sentimentLSTM.pkl', 'rb') as fp:\n",
    "        read_product = pickle.load(fp)\n",
    "        # print(read_product)\n",
    "    return read_product\n",
    "\n",
    "review_training = recall_data()"
   ]
  },
  {
   "cell_type": "code",
   "execution_count": 52,
   "metadata": {},
   "outputs": [
    {
     "name": "stdout",
     "output_type": "stream",
     "text": [
      "(480263,)\n",
      "(160088,)\n"
     ]
    }
   ],
   "source": [
    "X_train, X_test, y_train, y_test = train_test_split(np.array(review_training[\"reviewTextClean\"]),np.array(review_training[\"awesomeness\"]), test_size=0.25,random_state=42)\n",
    "print(X_train.shape)\n",
    "print(X_test.shape)\n"
   ]
  },
  {
   "cell_type": "code",
   "execution_count": 53,
   "metadata": {},
   "outputs": [],
   "source": [
    "from sklearn.feature_extraction.text import TfidfVectorizer\n",
    "tfidf2 = TfidfVectorizer(use_idf=True, tokenizer=word_tokenize)\n",
    "X_train_tf2 = tfidf2.fit_transform(X_train)\n",
    "X_test_tf2 = tfidf2.transform(X_test)"
   ]
  },
  {
   "cell_type": "code",
   "execution_count": 63,
   "metadata": {},
   "outputs": [
    {
     "name": "stdout",
     "output_type": "stream",
     "text": [
      "Accuracy: 52.4390243902439% and Roc Auc Score:0.5208333333333333\n",
      "              precision    recall  f1-score   support\n",
      "\n",
      "           0       0.44      0.50      0.47        68\n",
      "           1       0.60      0.54      0.57        96\n",
      "\n",
      "    accuracy                           0.52       164\n",
      "   macro avg       0.52      0.52      0.52       164\n",
      "weighted avg       0.53      0.52      0.53       164\n",
      "\n"
     ]
    }
   ],
   "source": [
    "# review_df = review_training\n",
    "# target_df =  product_training[['asin','awesomeness']]\n",
    "# final_df = reshape_features(review_df, target_df)\n",
    "\n",
    "#review_training1.awesomeness.unique()\n",
    "\n",
    "#X_train, X_test, y_train, y_test = train_test_split(np.array(review_training[\"reviewTextClean\"]),np.array(review_training[\"awesomeness\"]), test_size=0.25,random_state=42)\n",
    "# print(X_train.shape)\n",
    "# print(X_test.shape)\n",
    "\n",
    "\n",
    "#from sklearn.feature_extraction.text import TfidfVectorizer\n",
    "\n",
    "rf = RandomForestClassifier()\n",
    "rf.fit(X_train_tf2, y_train)\n",
    "\n",
    "#from sklearn.metrics import roc_auc_score\n",
    "y_pred = rf.predict(X_test_tf2)\n",
    "acc = accuracy_score(y_pred, y_test)\n",
    "report = classification_report(y_test, y_pred)\n",
    "roc = roc_auc_score(y_test,y_pred)\n",
    "print(f\"Accuracy: {acc*100}% and Roc Auc Score:{roc_auc_score(y_test,y_pred)}\")\n",
    "print(report)"
   ]
  },
  {
   "cell_type": "code",
   "execution_count": 64,
   "metadata": {},
   "outputs": [
    {
     "name": "stdout",
     "output_type": "stream",
     "text": [
      "Accuracy: 60.36585365853659% and Roc Auc Score:0.5585171568627451\n",
      "              precision    recall  f1-score   support\n",
      "\n",
      "           0       0.54      0.29      0.38        68\n",
      "           1       0.62      0.82      0.71        96\n",
      "\n",
      "    accuracy                           0.60       164\n",
      "   macro avg       0.58      0.56      0.54       164\n",
      "weighted avg       0.59      0.60      0.57       164\n",
      "\n"
     ]
    }
   ],
   "source": [
    "from sklearn.naive_bayes import MultinomialNB\n",
    "nb = MultinomialNB()\n",
    "nb.fit(X_train_tf2, y_train)\n",
    "\n",
    "y_pred3 = nb.predict(X_test_tf2)\n",
    "acc3 = accuracy_score(y_pred3, y_test)\n",
    "report3 = classification_report(y_test, y_pred3)\n",
    "roc3 = roc_auc_score(y_test,y_pred3)\n",
    "print(f\"Accuracy: {acc3*100}% and Roc Auc Score:{roc_auc_score(y_test,y_pred3)}\")\n",
    "print(report3)"
   ]
  },
  {
   "cell_type": "code",
   "execution_count": 54,
   "metadata": {},
   "outputs": [],
   "source": [
    "#Deep Learning \n",
    "from keras.preprocessing.text import Tokenizer\n",
    "from keras.utils import pad_sequences\n",
    "from sklearn.model_selection import train_test_split\n",
    "\n",
    "\n",
    "X = review_training[\"reviewTextClean\"]\n",
    "y = review_training.awesomeness\n",
    "X_train, X_test, y_train, y_test = train_test_split(X, y, test_size=0.25, random_state=42)\n",
    "# print(X_train.shape)\n",
    "# print(X_test.shape)"
   ]
  },
  {
   "cell_type": "code",
   "execution_count": 55,
   "metadata": {},
   "outputs": [],
   "source": [
    "from keras.preprocessing.text import Tokenizer\n",
    "from keras.utils import pad_sequences\n",
    "\n",
    "tokenizer = Tokenizer()\n",
    "tokenizer.fit_on_texts(X_train)"
   ]
  },
  {
   "cell_type": "code",
   "execution_count": 56,
   "metadata": {},
   "outputs": [
    {
     "data": {
      "text/plain": [
       "array([   0,    0,    0,    0,    0,    0,    0,    0,    0,    0,    0,\n",
       "          0,    0,    0,    0,    0,    0,    0,    0,    0,    0,    0,\n",
       "          0,    0,    0,    0,    0,    0,    0,    0,    0,    0,    0,\n",
       "          0,    0,    0,    0,    0,    0,    0,    0,    0,    0,    0,\n",
       "          0,  283,  264,  644,   66,   28,  960,    2,    3, 1263,   25,\n",
       "         82,  567,   87,   82, 1424,    3,    2,   87,   82], dtype=int32)"
      ]
     },
     "execution_count": 56,
     "metadata": {},
     "output_type": "execute_result"
    }
   ],
   "source": [
    "# using tokenizer to transform text messages into training and testing set\n",
    "X_train_seq = tokenizer.texts_to_sequences(X_train)\n",
    "X_test_seq = tokenizer.texts_to_sequences(X_test)\n",
    "\n",
    "X_train_seq_padded = pad_sequences(X_train_seq, maxlen=64)\n",
    "X_test_seq_padded = pad_sequences(X_test_seq, maxlen=64)\n",
    "\n",
    "X_train_seq_padded[0]"
   ]
  },
  {
   "cell_type": "code",
   "execution_count": 57,
   "metadata": {},
   "outputs": [
    {
     "name": "stderr",
     "output_type": "stream",
     "text": [
      "2023-05-28 19:46:52.726564: I tensorflow/core/common_runtime/executor.cc:1197] [/device:CPU:0] (DEBUG INFO) Executor start aborting (this does not indicate an error and you can ignore this message): INVALID_ARGUMENT: You must feed a value for placeholder tensor 'gradients/split_2_grad/concat/split_2/split_dim' with dtype int32\n",
      "\t [[{{node gradients/split_2_grad/concat/split_2/split_dim}}]]\n",
      "2023-05-28 19:46:52.731526: I tensorflow/core/common_runtime/executor.cc:1197] [/device:CPU:0] (DEBUG INFO) Executor start aborting (this does not indicate an error and you can ignore this message): INVALID_ARGUMENT: You must feed a value for placeholder tensor 'gradients/split_grad/concat/split/split_dim' with dtype int32\n",
      "\t [[{{node gradients/split_grad/concat/split/split_dim}}]]\n",
      "2023-05-28 19:46:52.733601: I tensorflow/core/common_runtime/executor.cc:1197] [/device:CPU:0] (DEBUG INFO) Executor start aborting (this does not indicate an error and you can ignore this message): INVALID_ARGUMENT: You must feed a value for placeholder tensor 'gradients/split_1_grad/concat/split_1/split_dim' with dtype int32\n",
      "\t [[{{node gradients/split_1_grad/concat/split_1/split_dim}}]]\n"
     ]
    },
    {
     "name": "stdout",
     "output_type": "stream",
     "text": [
      "Model: \"sequential_7\"\n",
      "_________________________________________________________________\n",
      " Layer (type)                Output Shape              Param #   \n",
      "=================================================================\n",
      " embedding_7 (Embedding)     (None, None, 64)          4232000   \n",
      "                                                                 \n",
      " bidirectional_7 (Bidirectio  (None, 200)              132000    \n",
      " nal)                                                            \n",
      "                                                                 \n",
      " dense_14 (Dense)            (None, 128)               25728     \n",
      "                                                                 \n",
      " dense_15 (Dense)            (None, 1)                 129       \n",
      "                                                                 \n",
      "=================================================================\n",
      "Total params: 4,389,857\n",
      "Trainable params: 4,389,857\n",
      "Non-trainable params: 0\n",
      "_________________________________________________________________\n"
     ]
    },
    {
     "name": "stderr",
     "output_type": "stream",
     "text": [
      "2023-05-28 19:46:53.005974: I tensorflow/core/common_runtime/executor.cc:1197] [/device:CPU:0] (DEBUG INFO) Executor start aborting (this does not indicate an error and you can ignore this message): INVALID_ARGUMENT: You must feed a value for placeholder tensor 'gradients/ReverseV2_grad/ReverseV2/ReverseV2/axis' with dtype int32 and shape [1]\n",
      "\t [[{{node gradients/ReverseV2_grad/ReverseV2/ReverseV2/axis}}]]\n",
      "2023-05-28 19:46:53.067146: I tensorflow/core/common_runtime/executor.cc:1197] [/device:CPU:0] (DEBUG INFO) Executor start aborting (this does not indicate an error and you can ignore this message): INVALID_ARGUMENT: You must feed a value for placeholder tensor 'gradients/split_2_grad/concat/split_2/split_dim' with dtype int32\n",
      "\t [[{{node gradients/split_2_grad/concat/split_2/split_dim}}]]\n",
      "2023-05-28 19:46:53.069564: I tensorflow/core/common_runtime/executor.cc:1197] [/device:CPU:0] (DEBUG INFO) Executor start aborting (this does not indicate an error and you can ignore this message): INVALID_ARGUMENT: You must feed a value for placeholder tensor 'gradients/split_grad/concat/split/split_dim' with dtype int32\n",
      "\t [[{{node gradients/split_grad/concat/split/split_dim}}]]\n",
      "2023-05-28 19:46:53.072623: I tensorflow/core/common_runtime/executor.cc:1197] [/device:CPU:0] (DEBUG INFO) Executor start aborting (this does not indicate an error and you can ignore this message): INVALID_ARGUMENT: You must feed a value for placeholder tensor 'gradients/split_1_grad/concat/split_1/split_dim' with dtype int32\n",
      "\t [[{{node gradients/split_1_grad/concat/split_1/split_dim}}]]\n"
     ]
    }
   ],
   "source": [
    "# construct model\n",
    "BATCH_SIZE = 100\n",
    "\n",
    "from keras.utils.vis_utils import plot_model\n",
    "model = Sequential()\n",
    "model.add(Embedding(len(tokenizer.index_word)+1,64))\n",
    "model.add(Bidirectional(LSTM(100, dropout=0,recurrent_dropout=0)))\n",
    "model.add(Dense(128, activation=\"relu\"))\n",
    "model.add(Dense(1,activation=\"sigmoid\"))\n",
    "\n",
    "model.compile(\"adam\",\"binary_crossentropy\",metrics=[\"accuracy\"])\n",
    "model.summary()\n",
    "#plot_model(model, to_file='model_plot.png', show_shapes=True, show_layer_names=True)"
   ]
  },
  {
   "cell_type": "code",
   "execution_count": 58,
   "metadata": {},
   "outputs": [],
   "source": [
    "# Used for preventing ovefitting\n",
    "from keras.callbacks import EarlyStopping\n",
    "early_stop = EarlyStopping(monitor=\"val_loss\",patience=5,verbose=True)"
   ]
  },
  {
   "cell_type": "code",
   "execution_count": 59,
   "metadata": {},
   "outputs": [
    {
     "name": "stderr",
     "output_type": "stream",
     "text": [
      "2023-05-28 19:47:00.152406: I tensorflow/core/common_runtime/executor.cc:1197] [/device:CPU:0] (DEBUG INFO) Executor start aborting (this does not indicate an error and you can ignore this message): INVALID_ARGUMENT: You must feed a value for placeholder tensor 'gradients/split_2_grad/concat/split_2/split_dim' with dtype int32\n",
      "\t [[{{node gradients/split_2_grad/concat/split_2/split_dim}}]]\n",
      "2023-05-28 19:47:00.156742: I tensorflow/core/common_runtime/executor.cc:1197] [/device:CPU:0] (DEBUG INFO) Executor start aborting (this does not indicate an error and you can ignore this message): INVALID_ARGUMENT: You must feed a value for placeholder tensor 'gradients/split_grad/concat/split/split_dim' with dtype int32\n",
      "\t [[{{node gradients/split_grad/concat/split/split_dim}}]]\n",
      "2023-05-28 19:47:00.159658: I tensorflow/core/common_runtime/executor.cc:1197] [/device:CPU:0] (DEBUG INFO) Executor start aborting (this does not indicate an error and you can ignore this message): INVALID_ARGUMENT: You must feed a value for placeholder tensor 'gradients/split_1_grad/concat/split_1/split_dim' with dtype int32\n",
      "\t [[{{node gradients/split_1_grad/concat/split_1/split_dim}}]]\n",
      "2023-05-28 19:47:00.327824: I tensorflow/core/common_runtime/executor.cc:1197] [/device:CPU:0] (DEBUG INFO) Executor start aborting (this does not indicate an error and you can ignore this message): INVALID_ARGUMENT: You must feed a value for placeholder tensor 'gradients/ReverseV2_grad/ReverseV2/ReverseV2/axis' with dtype int32 and shape [1]\n",
      "\t [[{{node gradients/ReverseV2_grad/ReverseV2/ReverseV2/axis}}]]\n",
      "2023-05-28 19:47:00.389871: I tensorflow/core/common_runtime/executor.cc:1197] [/device:CPU:0] (DEBUG INFO) Executor start aborting (this does not indicate an error and you can ignore this message): INVALID_ARGUMENT: You must feed a value for placeholder tensor 'gradients/split_2_grad/concat/split_2/split_dim' with dtype int32\n",
      "\t [[{{node gradients/split_2_grad/concat/split_2/split_dim}}]]\n",
      "2023-05-28 19:47:00.392614: I tensorflow/core/common_runtime/executor.cc:1197] [/device:CPU:0] (DEBUG INFO) Executor start aborting (this does not indicate an error and you can ignore this message): INVALID_ARGUMENT: You must feed a value for placeholder tensor 'gradients/split_grad/concat/split/split_dim' with dtype int32\n",
      "\t [[{{node gradients/split_grad/concat/split/split_dim}}]]\n",
      "2023-05-28 19:47:00.395674: I tensorflow/core/common_runtime/executor.cc:1197] [/device:CPU:0] (DEBUG INFO) Executor start aborting (this does not indicate an error and you can ignore this message): INVALID_ARGUMENT: You must feed a value for placeholder tensor 'gradients/split_1_grad/concat/split_1/split_dim' with dtype int32\n",
      "\t [[{{node gradients/split_1_grad/concat/split_1/split_dim}}]]\n",
      "2023-05-28 19:47:01.066484: I tensorflow/core/common_runtime/executor.cc:1197] [/device:CPU:0] (DEBUG INFO) Executor start aborting (this does not indicate an error and you can ignore this message): INVALID_ARGUMENT: You must feed a value for placeholder tensor 'gradients/ReverseV2_grad/ReverseV2/ReverseV2/axis' with dtype int32 and shape [1]\n",
      "\t [[{{node gradients/ReverseV2_grad/ReverseV2/ReverseV2/axis}}]]\n",
      "2023-05-28 19:47:02.060724: I tensorflow/core/common_runtime/executor.cc:1197] [/device:CPU:0] (DEBUG INFO) Executor start aborting (this does not indicate an error and you can ignore this message): INVALID_ARGUMENT: You must feed a value for placeholder tensor 'gradients/split_2_grad/concat/split_2/split_dim' with dtype int32\n",
      "\t [[{{node gradients/split_2_grad/concat/split_2/split_dim}}]]\n",
      "2023-05-28 19:47:02.066200: I tensorflow/core/common_runtime/executor.cc:1197] [/device:CPU:0] (DEBUG INFO) Executor start aborting (this does not indicate an error and you can ignore this message): INVALID_ARGUMENT: You must feed a value for placeholder tensor 'gradients/split_grad/concat/split/split_dim' with dtype int32\n",
      "\t [[{{node gradients/split_grad/concat/split/split_dim}}]]\n",
      "2023-05-28 19:47:02.070977: I tensorflow/core/common_runtime/executor.cc:1197] [/device:CPU:0] (DEBUG INFO) Executor start aborting (this does not indicate an error and you can ignore this message): INVALID_ARGUMENT: You must feed a value for placeholder tensor 'gradients/split_1_grad/concat/split_1/split_dim' with dtype int32\n",
      "\t [[{{node gradients/split_1_grad/concat/split_1/split_dim}}]]\n",
      "2023-05-28 19:47:02.459599: I tensorflow/core/common_runtime/executor.cc:1197] [/device:CPU:0] (DEBUG INFO) Executor start aborting (this does not indicate an error and you can ignore this message): INVALID_ARGUMENT: You must feed a value for placeholder tensor 'gradients/ReverseV2_grad/ReverseV2/ReverseV2/axis' with dtype int32 and shape [1]\n",
      "\t [[{{node gradients/ReverseV2_grad/ReverseV2/ReverseV2/axis}}]]\n",
      "2023-05-28 19:47:02.560915: I tensorflow/core/common_runtime/executor.cc:1197] [/device:CPU:0] (DEBUG INFO) Executor start aborting (this does not indicate an error and you can ignore this message): INVALID_ARGUMENT: You must feed a value for placeholder tensor 'gradients/split_2_grad/concat/split_2/split_dim' with dtype int32\n",
      "\t [[{{node gradients/split_2_grad/concat/split_2/split_dim}}]]\n",
      "2023-05-28 19:47:02.566149: I tensorflow/core/common_runtime/executor.cc:1197] [/device:CPU:0] (DEBUG INFO) Executor start aborting (this does not indicate an error and you can ignore this message): INVALID_ARGUMENT: You must feed a value for placeholder tensor 'gradients/split_grad/concat/split/split_dim' with dtype int32\n",
      "\t [[{{node gradients/split_grad/concat/split/split_dim}}]]\n",
      "2023-05-28 19:47:02.569654: I tensorflow/core/common_runtime/executor.cc:1197] [/device:CPU:0] (DEBUG INFO) Executor start aborting (this does not indicate an error and you can ignore this message): INVALID_ARGUMENT: You must feed a value for placeholder tensor 'gradients/split_1_grad/concat/split_1/split_dim' with dtype int32\n",
      "\t [[{{node gradients/split_1_grad/concat/split_1/split_dim}}]]\n",
      "2023-05-28 19:47:03.653060: I tensorflow/core/common_runtime/executor.cc:1197] [/device:CPU:0] (DEBUG INFO) Executor start aborting (this does not indicate an error and you can ignore this message): INVALID_ARGUMENT: You must feed a value for placeholder tensor 'gradients/ReverseV2_grad/ReverseV2/ReverseV2/axis' with dtype int32 and shape [1]\n",
      "\t [[{{node gradients/ReverseV2_grad/ReverseV2/ReverseV2/axis}}]]\n"
     ]
    },
    {
     "name": "stdout",
     "output_type": "stream",
     "text": [
      "4803/4803 [==============================] - ETA: 0s - loss: 0.6265 - accuracy: 0.6465"
     ]
    },
    {
     "name": "stderr",
     "output_type": "stream",
     "text": [
      "2023-05-28 20:02:03.767575: I tensorflow/core/common_runtime/executor.cc:1197] [/device:CPU:0] (DEBUG INFO) Executor start aborting (this does not indicate an error and you can ignore this message): INVALID_ARGUMENT: You must feed a value for placeholder tensor 'gradients/split_2_grad/concat/split_2/split_dim' with dtype int32\n",
      "\t [[{{node gradients/split_2_grad/concat/split_2/split_dim}}]]\n",
      "2023-05-28 20:02:03.773646: I tensorflow/core/common_runtime/executor.cc:1197] [/device:CPU:0] (DEBUG INFO) Executor start aborting (this does not indicate an error and you can ignore this message): INVALID_ARGUMENT: You must feed a value for placeholder tensor 'gradients/split_grad/concat/split/split_dim' with dtype int32\n",
      "\t [[{{node gradients/split_grad/concat/split/split_dim}}]]\n",
      "2023-05-28 20:02:03.779342: I tensorflow/core/common_runtime/executor.cc:1197] [/device:CPU:0] (DEBUG INFO) Executor start aborting (this does not indicate an error and you can ignore this message): INVALID_ARGUMENT: You must feed a value for placeholder tensor 'gradients/split_1_grad/concat/split_1/split_dim' with dtype int32\n",
      "\t [[{{node gradients/split_1_grad/concat/split_1/split_dim}}]]\n",
      "2023-05-28 20:02:04.293311: I tensorflow/core/common_runtime/executor.cc:1197] [/device:CPU:0] (DEBUG INFO) Executor start aborting (this does not indicate an error and you can ignore this message): INVALID_ARGUMENT: You must feed a value for placeholder tensor 'gradients/ReverseV2_grad/ReverseV2/ReverseV2/axis' with dtype int32 and shape [1]\n",
      "\t [[{{node gradients/ReverseV2_grad/ReverseV2/ReverseV2/axis}}]]\n",
      "2023-05-28 20:02:04.392648: I tensorflow/core/common_runtime/executor.cc:1197] [/device:CPU:0] (DEBUG INFO) Executor start aborting (this does not indicate an error and you can ignore this message): INVALID_ARGUMENT: You must feed a value for placeholder tensor 'gradients/split_2_grad/concat/split_2/split_dim' with dtype int32\n",
      "\t [[{{node gradients/split_2_grad/concat/split_2/split_dim}}]]\n",
      "2023-05-28 20:02:04.397035: I tensorflow/core/common_runtime/executor.cc:1197] [/device:CPU:0] (DEBUG INFO) Executor start aborting (this does not indicate an error and you can ignore this message): INVALID_ARGUMENT: You must feed a value for placeholder tensor 'gradients/split_grad/concat/split/split_dim' with dtype int32\n",
      "\t [[{{node gradients/split_grad/concat/split/split_dim}}]]\n",
      "2023-05-28 20:02:04.401197: I tensorflow/core/common_runtime/executor.cc:1197] [/device:CPU:0] (DEBUG INFO) Executor start aborting (this does not indicate an error and you can ignore this message): INVALID_ARGUMENT: You must feed a value for placeholder tensor 'gradients/split_1_grad/concat/split_1/split_dim' with dtype int32\n",
      "\t [[{{node gradients/split_1_grad/concat/split_1/split_dim}}]]\n"
     ]
    },
    {
     "name": "stdout",
     "output_type": "stream",
     "text": [
      "4803/4803 [==============================] - 965s 200ms/step - loss: 0.6265 - accuracy: 0.6465 - val_loss: 0.6113 - val_accuracy: 0.6616\n"
     ]
    }
   ],
   "source": [
    "history = model.fit(X_train_seq_padded, y_train,batch_size=BATCH_SIZE,epochs=1,\n",
    "                    validation_data=(X_test_seq_padded, y_test),callbacks=[early_stop])"
   ]
  },
  {
   "cell_type": "code",
   "execution_count": 60,
   "metadata": {},
   "outputs": [
    {
     "name": "stderr",
     "output_type": "stream",
     "text": [
      "2023-05-28 20:03:12.703478: I tensorflow/core/common_runtime/executor.cc:1197] [/device:CPU:0] (DEBUG INFO) Executor start aborting (this does not indicate an error and you can ignore this message): INVALID_ARGUMENT: You must feed a value for placeholder tensor 'gradients/split_2_grad/concat/split_2/split_dim' with dtype int32\n",
      "\t [[{{node gradients/split_2_grad/concat/split_2/split_dim}}]]\n",
      "2023-05-28 20:03:12.706985: I tensorflow/core/common_runtime/executor.cc:1197] [/device:CPU:0] (DEBUG INFO) Executor start aborting (this does not indicate an error and you can ignore this message): INVALID_ARGUMENT: You must feed a value for placeholder tensor 'gradients/split_grad/concat/split/split_dim' with dtype int32\n",
      "\t [[{{node gradients/split_grad/concat/split/split_dim}}]]\n",
      "2023-05-28 20:03:12.709634: I tensorflow/core/common_runtime/executor.cc:1197] [/device:CPU:0] (DEBUG INFO) Executor start aborting (this does not indicate an error and you can ignore this message): INVALID_ARGUMENT: You must feed a value for placeholder tensor 'gradients/split_1_grad/concat/split_1/split_dim' with dtype int32\n",
      "\t [[{{node gradients/split_1_grad/concat/split_1/split_dim}}]]\n",
      "2023-05-28 20:03:12.966932: I tensorflow/core/common_runtime/executor.cc:1197] [/device:CPU:0] (DEBUG INFO) Executor start aborting (this does not indicate an error and you can ignore this message): INVALID_ARGUMENT: You must feed a value for placeholder tensor 'gradients/ReverseV2_grad/ReverseV2/ReverseV2/axis' with dtype int32 and shape [1]\n",
      "\t [[{{node gradients/ReverseV2_grad/ReverseV2/ReverseV2/axis}}]]\n",
      "2023-05-28 20:03:13.066532: I tensorflow/core/common_runtime/executor.cc:1197] [/device:CPU:0] (DEBUG INFO) Executor start aborting (this does not indicate an error and you can ignore this message): INVALID_ARGUMENT: You must feed a value for placeholder tensor 'gradients/split_2_grad/concat/split_2/split_dim' with dtype int32\n",
      "\t [[{{node gradients/split_2_grad/concat/split_2/split_dim}}]]\n",
      "2023-05-28 20:03:13.069179: I tensorflow/core/common_runtime/executor.cc:1197] [/device:CPU:0] (DEBUG INFO) Executor start aborting (this does not indicate an error and you can ignore this message): INVALID_ARGUMENT: You must feed a value for placeholder tensor 'gradients/split_grad/concat/split/split_dim' with dtype int32\n",
      "\t [[{{node gradients/split_grad/concat/split/split_dim}}]]\n",
      "2023-05-28 20:03:13.071213: I tensorflow/core/common_runtime/executor.cc:1197] [/device:CPU:0] (DEBUG INFO) Executor start aborting (this does not indicate an error and you can ignore this message): INVALID_ARGUMENT: You must feed a value for placeholder tensor 'gradients/split_1_grad/concat/split_1/split_dim' with dtype int32\n",
      "\t [[{{node gradients/split_1_grad/concat/split_1/split_dim}}]]\n"
     ]
    },
    {
     "name": "stdout",
     "output_type": "stream",
     "text": [
      "15009/15009 [==============================] - 189s 13ms/step\n",
      "5003/5003 [==============================] - 59s 12ms/step\n",
      "LSTM Recurrent Neural Network baseline: 0.7397844717471033\n",
      "LSTM Recurrent Neural Network: 0.7112987076776812\n"
     ]
    }
   ],
   "source": [
    "from sklearn.metrics import roc_auc_score\n",
    "pred_train = model.predict(X_train_seq_padded)\n",
    "pred_test = model.predict(X_test_seq_padded)\n",
    "print('LSTM Recurrent Neural Network baseline: ' + str(roc_auc_score(y_train, pred_train)))\n",
    "print('LSTM Recurrent Neural Network: ' + str(roc_auc_score(y_test, pred_test)))"
   ]
  },
  {
   "cell_type": "markdown",
   "metadata": {},
   "source": []
  },
  {
   "cell_type": "code",
   "execution_count": 61,
   "metadata": {},
   "outputs": [
    {
     "name": "stdout",
     "output_type": "stream",
     "text": [
      "5003/5003 [==============================] - 63s 13ms/step - loss: 0.6113 - accuracy: 0.6616\n"
     ]
    },
    {
     "data": {
      "text/plain": [
       "[0.6113053560256958, 0.6615548729896545]"
      ]
     },
     "execution_count": 61,
     "metadata": {},
     "output_type": "execute_result"
    }
   ],
   "source": [
    "model.evaluate(X_test_seq_padded, y_test)"
   ]
  },
  {
   "cell_type": "code",
   "execution_count": null,
   "metadata": {},
   "outputs": [],
   "source": []
  }
 ],
 "metadata": {
  "interpreter": {
   "hash": "12d913273d87088a36128e363d935d21bff2ebf90b623d46a92a7a27b424c02c"
  },
  "kernelspec": {
   "display_name": "Python 3.9.12 ('base')",
   "language": "python",
   "name": "python3"
  },
  "language_info": {
   "codemirror_mode": {
    "name": "ipython",
    "version": 3
   },
   "file_extension": ".py",
   "mimetype": "text/x-python",
   "name": "python",
   "nbconvert_exporter": "python",
   "pygments_lexer": "ipython3",
   "version": "3.9.12"
  },
  "orig_nbformat": 4
 },
 "nbformat": 4,
 "nbformat_minor": 2
}
