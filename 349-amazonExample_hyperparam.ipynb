{
 "cells": [
  {
   "cell_type": "code",
   "execution_count": 8,
   "metadata": {},
   "outputs": [],
   "source": [
    "#example:\n",
    "#https://www.kaggle.com/code/purvitsharma/amazon-reviews-bidirectional-lstm\n",
    "import pandas as pd\n",
    "import numpy as np\n",
    "import matplotlib.pyplot as plt\n",
    "from vaderSentiment.vaderSentiment import SentimentIntensityAnalyzer\n",
    "#%matplotlib inline\n",
    "plt.style.use(\"fivethirtyeight\")\n",
    "import seaborn as sns\n",
    "sns.set_style(\"darkgrid\")\n",
    "#from wordcloud import WordCloud\n",
    "from sklearn.model_selection import train_test_split\n",
    "from sklearn.feature_extraction.text import TfidfVectorizer\n",
    "from sklearn.metrics import roc_auc_score\n",
    "import re, string, nltk\n",
    "#import emoji, bz2\n",
    "#import emoji\n",
    "from nltk.corpus import stopwords\n",
    "from nltk.stem.wordnet import WordNetLemmatizer\n",
    "from nltk import word_tokenize\n",
    "from sklearn.ensemble import RandomForestClassifier, AdaBoostClassifier, GradientBoostingClassifier\n",
    "from sklearn.tree import DecisionTreeClassifier\n",
    "\n",
    "from tensorflow import keras\n",
    "from keras.models import Sequential\n",
    "from keras.layers import Dense, LSTM, Bidirectional, Dropout\n",
    "from keras.layers import Embedding\n",
    "#from keras.preprocessing.sequence import pad_sequences\n",
    "from sklearn.metrics import accuracy_score,confusion_matrix, classification_report\n",
    "import warnings\n",
    "warnings.filterwarnings(\"ignore\")\n",
    "import pickle"
   ]
  },
  {
   "cell_type": "code",
   "execution_count": 9,
   "metadata": {},
   "outputs": [],
   "source": [
    "#might have to change this path depending on where you stored the datasets\n",
    "product_training = pd.read_json(\"devided_dataset_v2/Grocery_and_Gourmet_Food/train/product_training.json\")\n",
    "review_training = pd.read_json(\"devided_dataset_v2/Grocery_and_Gourmet_Food/train/review_training.json\")\n",
    "\n",
    "product_training = product_training[0:5000]\n",
    "review_training = review_training[0:5000]\n",
    "\n",
    "#print(review_training['reviewText'])\n"
   ]
  },
  {
   "cell_type": "code",
   "execution_count": 10,
   "metadata": {},
   "outputs": [
    {
     "name": "stdout",
     "output_type": "stream",
     "text": [
      "                                  asin                        reviewerID  \\\n",
      "0     71F1F9B34E46A7F11E8B72C26CA861B6  D0A66D9D59DFB8808DE637FA50025550   \n",
      "1     1755243A708579B595D1AAAFBADD7725  8D0A76D2383DCFC2B0DA3189FCC53490   \n",
      "2     982EB9BA1A12C03C3635DCD2A6CFD79E  CEDFFFFA048A21A94B2272349949BD08   \n",
      "3     08D86545D56A7C392B81B96F73DA85C0  8686C793EA21D71A574F18A847A733AC   \n",
      "4     9A8BE2D7907DA443B9A72E712290C0B2  DE9971A7DF0055FCC6BF78AA387AEDA6   \n",
      "...                                ...                               ...   \n",
      "4995  135AE7982B3DA88FC2FFE2C2E01F459F  87987FC38EBC3AA041F73B07CF0B0619   \n",
      "4996  2745501E4E72F413B5A4D57497FB103D  B9ECCF5C90192041883612EA8084C74E   \n",
      "4997  544AD3792EAEDAB81BCC3852888229CC  89CCBF4312085987B3904C4CFA4EA661   \n",
      "4998  E28B5A3AF6A4B81743EA7099B96FCE83  C698CC10E014E30617E9C2CE4E4C0EFD   \n",
      "4999  F237E7AE3418C0DF1B715CCB16765203  C0DF2BE0169038C1333AC0D14A3CEC69   \n",
      "\n",
      "      unixReviewTime  vote  verified   reviewTime  \\\n",
      "0         1438560000  None      True   08 3, 2015   \n",
      "1         1497139200  None      True  06 11, 2017   \n",
      "2         1452988800  None      True  01 17, 2016   \n",
      "3         1429056000  None      True  04 15, 2015   \n",
      "4         1358726400  None      True  01 21, 2013   \n",
      "...              ...   ...       ...          ...   \n",
      "4995      1479168000  None      True  11 15, 2016   \n",
      "4996      1515628800  None      True  01 11, 2018   \n",
      "4997      1525392000  None      True   05 4, 2018   \n",
      "4998      1280707200     5      True   08 2, 2010   \n",
      "4999      1462752000  None      True   05 9, 2016   \n",
      "\n",
      "                                                  style  \\\n",
      "0     {'Size:': ' 3.5-oz', 'Style:': ' Spinner Gift ...   \n",
      "1                           {'Package Quantity:': ' 1'}   \n",
      "2                                                  None   \n",
      "3     {'Size:': ' 16 Ounce', 'Flavor:': ' Light Asia...   \n",
      "4     {'Size:': ' 20 Count (Pack of 6)', 'Flavor:': ...   \n",
      "...                                                 ...   \n",
      "4995  {'Size:': ' 1.5 Ounce (Pack of 24)', 'Flavor:'...   \n",
      "4996                           {'Size:': ' 1Lb (453g)'}   \n",
      "4997                  {'Flavor:': ' Spaghetti Variety'}   \n",
      "4998  {'Size:': ' Pack of 24', 'Flavor:': ' Organic ...   \n",
      "4999                                               None   \n",
      "\n",
      "                          reviewerName  \\\n",
      "0     13BDF4D2B1DF0B4CB2CADE6A71D51E79   \n",
      "1     028BE8DD8A201156BBFDBA81ACA9091D   \n",
      "2     1814563D64BBA9CB329FDFA8432D5FAD   \n",
      "3     EF61F129EE2F20C379A5A11F8044ACC3   \n",
      "4     5C39B18D77D5F297FF92E4942E5522B5   \n",
      "...                                ...   \n",
      "4995  760C63E8E5E8DC3FAA01878D37BA5678   \n",
      "4996  44331F058FFD8D2FA056121B6007DC0E   \n",
      "4997  D963EFDB69D8387CF41CC3BA03016CB8   \n",
      "4998  D2383DA31D111CE3AB2E6E791AD20067   \n",
      "4999  7F48E1C998959C2CB5AEEE0005C596AC   \n",
      "\n",
      "                                             reviewText  \\\n",
      "0     These jelly beans were disgusting and perfect ...   \n",
      "1     Almost impossible to open, but the tea is firs...   \n",
      "2     These are really good, but I think they were a...   \n",
      "3                                                  good   \n",
      "4     I love all of Twinings teas.  This is my favor...   \n",
      "...                                                 ...   \n",
      "4995  very nice and tasty kettle chips, however CAPE...   \n",
      "4996  Good flavor, but not much salt. Almost no salt...   \n",
      "4997  I really liked the normal thickness noodles, b...   \n",
      "4998  After reading about the effect soy products ha...   \n",
      "4999                                             Decent   \n",
      "\n",
      "                                                summary image  \n",
      "0                                 Disgustingly perfect.  None  \n",
      "1                                                 Tasty  None  \n",
      "2     These are really good, but I think they were a...  None  \n",
      "3                                            Five Stars  None  \n",
      "4                                       Repeat Customer  None  \n",
      "...                                                 ...   ...  \n",
      "4995                             Cape Cod  better value  None  \n",
      "4996                                         Four Stars  None  \n",
      "4997        I really liked the normal thickness noodles  None  \n",
      "4998                          Much better than soy milk  None  \n",
      "4999                                         Four Stars  None  \n",
      "\n",
      "[4997 rows x 11 columns]\n"
     ]
    }
   ],
   "source": [
    "#get rid of null values \n",
    "review_training1 = review_training[~review_training['reviewText'].isnull()]\n",
    "print(review_training1)"
   ]
  },
  {
   "cell_type": "code",
   "execution_count": 11,
   "metadata": {},
   "outputs": [
    {
     "name": "stdout",
     "output_type": "stream",
     "text": [
      "                                            reviewText  awesomeness\n",
      "0    Almost impossible to open, but the tea is firs...            0\n",
      "1                                                 good            0\n",
      "2    Arrived fresh. Delicious blend of spices.\\nNON...            1\n",
      "3                                  My favorite coffee.            1\n",
      "4                           Just don't like the taste.            1\n",
      "..                                                 ...          ...\n",
      "651  My husband is a diabetic so I'm always on the ...            0\n",
      "652  Bought to sample when the Stone Street Mayan O...            0\n",
      "653  to every single pot of tea that I make I add t...            1\n",
      "654  Probably one of the best coffees I have ever h...            0\n",
      "655  Um... So I bought 16 whole *ounces*, huh? As i...            1\n",
      "\n",
      "[656 rows x 2 columns]\n"
     ]
    }
   ],
   "source": [
    "def reshape_features(review_df, target_df):\n",
    "        feature_df = pd.DataFrame(review_df, columns=['asin', 'reviewText'])\n",
    "        # Merge data frames\n",
    "        final_df = pd.merge(feature_df, target_df, on='asin')\n",
    "        final_df = pd.DataFrame(final_df, columns=['reviewText', 'awesomeness'])\n",
    "        return final_df\n",
    "\n",
    "review_df = review_training1\n",
    "target_df =  product_training[['asin','awesomeness']]\n",
    "review_training1 = reshape_features(review_df, target_df)\n",
    "print(review_training1)"
   ]
  },
  {
   "cell_type": "code",
   "execution_count": 12,
   "metadata": {},
   "outputs": [
    {
     "name": "stderr",
     "output_type": "stream",
     "text": [
      "[nltk_data] Downloading package stopwords to\n",
      "[nltk_data]     /Users/anishafujii/nltk_data...\n",
      "[nltk_data]   Package stopwords is already up-to-date!\n",
      "[nltk_data] Downloading package wordnet to\n",
      "[nltk_data]     /Users/anishafujii/nltk_data...\n",
      "[nltk_data]   Package wordnet is already up-to-date!\n",
      "[nltk_data] Downloading package omw-1.4 to\n",
      "[nltk_data]     /Users/anishafujii/nltk_data...\n",
      "[nltk_data]   Package omw-1.4 is already up-to-date!\n",
      "[nltk_data] Downloading package punkt to\n",
      "[nltk_data]     /Users/anishafujii/nltk_data...\n",
      "[nltk_data]   Package punkt is already up-to-date!\n"
     ]
    },
    {
     "data": {
      "text/plain": [
       "True"
      ]
     },
     "execution_count": 12,
     "metadata": {},
     "output_type": "execute_result"
    }
   ],
   "source": [
    "nltk.download('stopwords')\n",
    "nltk.download('wordnet')\n",
    "nltk.download('omw-1.4')\n",
    "nltk.download('punkt')"
   ]
  },
  {
   "cell_type": "code",
   "execution_count": 13,
   "metadata": {},
   "outputs": [
    {
     "data": {
      "text/html": [
       "<div>\n",
       "<style scoped>\n",
       "    .dataframe tbody tr th:only-of-type {\n",
       "        vertical-align: middle;\n",
       "    }\n",
       "\n",
       "    .dataframe tbody tr th {\n",
       "        vertical-align: top;\n",
       "    }\n",
       "\n",
       "    .dataframe thead th {\n",
       "        text-align: right;\n",
       "    }\n",
       "</style>\n",
       "<table border=\"1\" class=\"dataframe\">\n",
       "  <thead>\n",
       "    <tr style=\"text-align: right;\">\n",
       "      <th></th>\n",
       "      <th>reviewText</th>\n",
       "      <th>awesomeness</th>\n",
       "    </tr>\n",
       "  </thead>\n",
       "  <tbody>\n",
       "    <tr>\n",
       "      <th>0</th>\n",
       "      <td>almost impossible to open, but the tea is firs...</td>\n",
       "      <td>0</td>\n",
       "    </tr>\n",
       "    <tr>\n",
       "      <th>1</th>\n",
       "      <td>good</td>\n",
       "      <td>0</td>\n",
       "    </tr>\n",
       "    <tr>\n",
       "      <th>2</th>\n",
       "      <td>arrived fresh  delicious blend of spices \\nnon...</td>\n",
       "      <td>1</td>\n",
       "    </tr>\n",
       "    <tr>\n",
       "      <th>3</th>\n",
       "      <td>my favorite coffee</td>\n",
       "      <td>1</td>\n",
       "    </tr>\n",
       "    <tr>\n",
       "      <th>4</th>\n",
       "      <td>just don't like the taste</td>\n",
       "      <td>1</td>\n",
       "    </tr>\n",
       "    <tr>\n",
       "      <th>...</th>\n",
       "      <td>...</td>\n",
       "      <td>...</td>\n",
       "    </tr>\n",
       "    <tr>\n",
       "      <th>651</th>\n",
       "      <td>my husband is a diabetic so i'm always on the ...</td>\n",
       "      <td>0</td>\n",
       "    </tr>\n",
       "    <tr>\n",
       "      <th>652</th>\n",
       "      <td>bought to sample when the stone street mayan o...</td>\n",
       "      <td>0</td>\n",
       "    </tr>\n",
       "    <tr>\n",
       "      <th>653</th>\n",
       "      <td>to every single pot of tea that i make i add t...</td>\n",
       "      <td>1</td>\n",
       "    </tr>\n",
       "    <tr>\n",
       "      <th>654</th>\n",
       "      <td>probably one of the best coffees i have ever h...</td>\n",
       "      <td>0</td>\n",
       "    </tr>\n",
       "    <tr>\n",
       "      <th>655</th>\n",
       "      <td>um    so i bought    whole  ounces , huh  as i...</td>\n",
       "      <td>1</td>\n",
       "    </tr>\n",
       "  </tbody>\n",
       "</table>\n",
       "<p>656 rows × 2 columns</p>\n",
       "</div>"
      ],
      "text/plain": [
       "                                            reviewText  awesomeness\n",
       "0    almost impossible to open, but the tea is firs...            0\n",
       "1                                                 good            0\n",
       "2    arrived fresh  delicious blend of spices \\nnon...            1\n",
       "3                                  my favorite coffee             1\n",
       "4                           just don't like the taste             1\n",
       "..                                                 ...          ...\n",
       "651  my husband is a diabetic so i'm always on the ...            0\n",
       "652  bought to sample when the stone street mayan o...            0\n",
       "653  to every single pot of tea that i make i add t...            1\n",
       "654  probably one of the best coffees i have ever h...            0\n",
       "655  um    so i bought    whole  ounces , huh  as i...            1\n",
       "\n",
       "[656 rows x 2 columns]"
      ]
     },
     "execution_count": 13,
     "metadata": {},
     "output_type": "execute_result"
    }
   ],
   "source": [
    "\n",
    "def clean_text(df, field):\n",
    "    df[field] = df[field].str.replace(r\"@\",\" at \")\n",
    "    df[field] = df[field].str.replace(\"#[^a-zA-Z0-9_]+\",\" \")\n",
    "    df[field] = df[field].str.replace(r\"[^a-zA-Z(),\\\"'\\n_]\",\" \")\n",
    "    df[field] = df[field].str.replace(r\"http\\S+\",\"\")\n",
    "    df[field] = df[field].str.lower()\n",
    "    #print(df)\n",
    "    return df\n",
    "\n",
    "clean_text(review_training1,\"reviewText\")"
   ]
  },
  {
   "cell_type": "code",
   "execution_count": 14,
   "metadata": {},
   "outputs": [],
   "source": [
    "# Applying Lemmmatizer to remove tenses from texts.\n",
    "# this is what takes a really long time when cleaning the entire dataset because of the for loop\n",
    "# but just use recall_data() function to get already cleaned data for when running the full dataset \n",
    "lemmatizer = WordNetLemmatizer()\n",
    "\n",
    "def preprocess_text(text):\n",
    "    text = re.sub(r\"won\\'t\", \"will not\", text)\n",
    "    text = re.sub(r\"can\\'t\", \"can not\", text)\n",
    "    text = re.sub('[^a-zA-Z0-9]',' ',text)\n",
    "    #text= re.sub(emoji.get_emoji_regexp(),\"\",text)\n",
    "    text = [lemmatizer.lemmatize(word) for word in text.split() if not word in set(stopwords.words('english'))]\n",
    "    text = ' '.join(text)\n",
    "    return text\n",
    "\n",
    "review_training1[\"reviewTextClean\"] = review_training1[\"reviewText\"].apply(preprocess_text)\n",
    "#print(review_training1.head(15))\n"
   ]
  },
  {
   "cell_type": "code",
   "execution_count": 15,
   "metadata": {},
   "outputs": [
    {
     "name": "stdout",
     "output_type": "stream",
     "text": [
      "     awesomeness                                    reviewTextClean\n",
      "0              0              almost impossible open tea first rate\n",
      "1              0                                               good\n",
      "2              1  arrived fresh delicious blend spice non gmo pr...\n",
      "3              1                                    favorite coffee\n",
      "4              1                                         like taste\n",
      "..           ...                                                ...\n",
      "651            0  husband diabetic always lookout natural sweete...\n",
      "652            0  bought sample stone street mayan organic decaf...\n",
      "653            1  every single pot tea make add two finger pinch...\n",
      "654            0         probably one best coffee ever great coffee\n",
      "655            1  um bought whole ounce huh entire pound bag big...\n",
      "\n",
      "[656 rows x 2 columns]\n"
     ]
    }
   ],
   "source": [
    "review_training = review_training1[[\"awesomeness\",'reviewTextClean']]\n",
    "print(review_training)"
   ]
  },
  {
   "cell_type": "code",
   "execution_count": null,
   "metadata": {},
   "outputs": [],
   "source": [
    "\n",
    "# Stores products into a pickle file for easier training process\n",
    "def store_data(data):\n",
    "    # Store Product dict to speed up sentiment analysis for future runs\n",
    "    with open('sentimentLSTM.pkl', 'wb') as fp:\n",
    "        pickle.dump(data, fp)\n",
    "        print('dictionary saved successfully to file')\n",
    "\n",
    "store_data(review_training)"
   ]
  },
  {
   "cell_type": "code",
   "execution_count": 5,
   "metadata": {},
   "outputs": [],
   "source": [
    "# Uses pickle file to recall features stored\n",
    "def recall_data():\n",
    "    # Recall stores sentiment analysis from file\n",
    "    read_product = {}\n",
    "    with open('sentimentLSTM.pkl', 'rb') as fp:\n",
    "        read_product = pickle.load(fp)\n",
    "        # print(read_product)\n",
    "    return read_product\n",
    "\n",
    "\n",
    "# if you run this line, don't need to load and clean all of the data \n",
    "review_training = recall_data()"
   ]
  },
  {
   "cell_type": "code",
   "execution_count": 16,
   "metadata": {},
   "outputs": [
    {
     "name": "stdout",
     "output_type": "stream",
     "text": [
      "(492,)\n",
      "(164,)\n"
     ]
    }
   ],
   "source": [
    "X_train, X_test, y_train, y_test = train_test_split(np.array(review_training[\"reviewTextClean\"]),np.array(review_training[\"awesomeness\"]), test_size=0.25,random_state=42)\n",
    "print(X_train.shape)\n",
    "print(X_test.shape)\n"
   ]
  },
  {
   "cell_type": "code",
   "execution_count": 17,
   "metadata": {},
   "outputs": [],
   "source": [
    "from sklearn.feature_extraction.text import TfidfVectorizer\n",
    "tfidf2 = TfidfVectorizer(use_idf=True, tokenizer=word_tokenize)\n",
    "X_train_tf2 = tfidf2.fit_transform(X_train)\n",
    "X_test_tf2 = tfidf2.transform(X_test)"
   ]
  },
  {
   "cell_type": "code",
   "execution_count": 18,
   "metadata": {},
   "outputs": [
    {
     "name": "stdout",
     "output_type": "stream",
     "text": [
      "(492,)\n",
      "(164,)\n"
     ]
    }
   ],
   "source": [
    "#Deep Learning \n",
    "from keras.preprocessing.text import Tokenizer\n",
    "from keras.utils import pad_sequences\n",
    "from sklearn.model_selection import train_test_split\n",
    "\n",
    "\n",
    "X = review_training[\"reviewTextClean\"]\n",
    "y = review_training.awesomeness\n",
    "X_train, X_test, y_train, y_test = train_test_split(X, y, test_size=0.25, random_state=42)\n",
    "print(X_train.shape)\n",
    "print(X_test.shape)\n",
    "\n"
   ]
  },
  {
   "cell_type": "code",
   "execution_count": 19,
   "metadata": {},
   "outputs": [],
   "source": [
    "from keras.preprocessing.text import Tokenizer\n",
    "from keras.utils import pad_sequences\n",
    "\n",
    "tokenizer = Tokenizer()\n",
    "tokenizer.fit_on_texts(X_train)"
   ]
  },
  {
   "cell_type": "code",
   "execution_count": 20,
   "metadata": {},
   "outputs": [
    {
     "data": {
      "text/plain": [
       "array([   0,    0,    0,    0,    0,    0,    0,    0,    0,    0,    0,\n",
       "          0,    0,    0,    0,    0,    0,    0,    0,    0,    0,    0,\n",
       "          0,    0,    0,    0,    0,    0,    0,    0,    0,    0,    0,\n",
       "          0,    0,    0,    0,    0,    0,    0,    0,    0,    0,    0,\n",
       "       1136,  268,   32,  269,  103,   63,  359,  752,  571,  753,  443,\n",
       "        572, 1137,  234,  270, 1138,  360, 1139,   64,   21], dtype=int32)"
      ]
     },
     "execution_count": 20,
     "metadata": {},
     "output_type": "execute_result"
    }
   ],
   "source": [
    "# using tokenizer to transform text messages into training and testing set\n",
    "X_train_seq = tokenizer.texts_to_sequences(X_train)\n",
    "X_test_seq = tokenizer.texts_to_sequences(X_test)\n",
    "\n",
    "X_train_seq_padded = pad_sequences(X_train_seq, maxlen=64)\n",
    "X_test_seq_padded = pad_sequences(X_test_seq, maxlen=64)\n",
    "\n",
    "X_train_seq_padded[0]"
   ]
  },
  {
   "cell_type": "code",
   "execution_count": 21,
   "metadata": {},
   "outputs": [
    {
     "name": "stdout",
     "output_type": "stream",
     "text": [
      "(492,)\n",
      "338    0\n",
      "530    1\n",
      "176    1\n",
      "140    1\n",
      "318    0\n",
      "43     1\n",
      "42     1\n",
      "73     1\n",
      "167    1\n",
      "331    0\n",
      "Name: awesomeness, dtype: int64\n",
      "int64\n",
      "int32\n",
      "338    0\n",
      "530    1\n",
      "176    1\n",
      "140    1\n",
      "318    0\n",
      "43     1\n",
      "42     1\n",
      "73     1\n",
      "167    1\n",
      "331    0\n",
      "Name: awesomeness, dtype: int32\n"
     ]
    }
   ],
   "source": [
    "print(y_train.shape)\n",
    "print(y_train[:10])\n",
    "print(y_train.dtype)\n",
    "\n",
    "y_train = y_train.astype(np.int32)\n",
    "print(y_train.dtype)\n",
    "print(y_train[:10])\n"
   ]
  },
  {
   "cell_type": "code",
   "execution_count": 22,
   "metadata": {},
   "outputs": [
    {
     "ename": "KeyboardInterrupt",
     "evalue": "",
     "output_type": "error",
     "traceback": [
      "\u001b[0;31m---------------------------------------------------------------------------\u001b[0m",
      "\u001b[0;31mKeyboardInterrupt\u001b[0m                         Traceback (most recent call last)",
      "\u001b[1;32m/Users/anishafujii/Desktop/349-amazonExample_hyperparam.ipynb Cell 17'\u001b[0m in \u001b[0;36m<cell line: 43>\u001b[0;34m()\u001b[0m\n\u001b[1;32m     <a href='vscode-notebook-cell:/Users/anishafujii/Desktop/349-amazonExample_hyperparam.ipynb#ch0000019?line=40'>41</a>\u001b[0m \u001b[39m# Perform the random search\u001b[39;00m\n\u001b[1;32m     <a href='vscode-notebook-cell:/Users/anishafujii/Desktop/349-amazonExample_hyperparam.ipynb#ch0000019?line=41'>42</a>\u001b[0m random_search \u001b[39m=\u001b[39m RandomizedSearchCV(model, param_distributions\u001b[39m=\u001b[39mparam_grid, n_iter\u001b[39m=\u001b[39m\u001b[39m10\u001b[39m, cv\u001b[39m=\u001b[39m\u001b[39m3\u001b[39m)\n\u001b[0;32m---> <a href='vscode-notebook-cell:/Users/anishafujii/Desktop/349-amazonExample_hyperparam.ipynb#ch0000019?line=42'>43</a>\u001b[0m random_search\u001b[39m.\u001b[39;49mfit(X_train_seq_padded, y_train)\n\u001b[1;32m     <a href='vscode-notebook-cell:/Users/anishafujii/Desktop/349-amazonExample_hyperparam.ipynb#ch0000019?line=44'>45</a>\u001b[0m \u001b[39m# Print the best hyperparameters and the corresponding accuracy\u001b[39;00m\n\u001b[1;32m     <a href='vscode-notebook-cell:/Users/anishafujii/Desktop/349-amazonExample_hyperparam.ipynb#ch0000019?line=45'>46</a>\u001b[0m \u001b[39mprint\u001b[39m(\u001b[39m\"\u001b[39m\u001b[39mBest Hyperparameters: \u001b[39m\u001b[39m\"\u001b[39m, random_search\u001b[39m.\u001b[39mbest_params_)\n",
      "File \u001b[0;32m~/opt/anaconda3/lib/python3.9/site-packages/sklearn/model_selection/_search.py:874\u001b[0m, in \u001b[0;36mBaseSearchCV.fit\u001b[0;34m(self, X, y, groups, **fit_params)\u001b[0m\n\u001b[1;32m    <a href='file:///Users/anishafujii/opt/anaconda3/lib/python3.9/site-packages/sklearn/model_selection/_search.py?line=867'>868</a>\u001b[0m     results \u001b[39m=\u001b[39m \u001b[39mself\u001b[39m\u001b[39m.\u001b[39m_format_results(\n\u001b[1;32m    <a href='file:///Users/anishafujii/opt/anaconda3/lib/python3.9/site-packages/sklearn/model_selection/_search.py?line=868'>869</a>\u001b[0m         all_candidate_params, n_splits, all_out, all_more_results\n\u001b[1;32m    <a href='file:///Users/anishafujii/opt/anaconda3/lib/python3.9/site-packages/sklearn/model_selection/_search.py?line=869'>870</a>\u001b[0m     )\n\u001b[1;32m    <a href='file:///Users/anishafujii/opt/anaconda3/lib/python3.9/site-packages/sklearn/model_selection/_search.py?line=871'>872</a>\u001b[0m     \u001b[39mreturn\u001b[39;00m results\n\u001b[0;32m--> <a href='file:///Users/anishafujii/opt/anaconda3/lib/python3.9/site-packages/sklearn/model_selection/_search.py?line=873'>874</a>\u001b[0m \u001b[39mself\u001b[39;49m\u001b[39m.\u001b[39;49m_run_search(evaluate_candidates)\n\u001b[1;32m    <a href='file:///Users/anishafujii/opt/anaconda3/lib/python3.9/site-packages/sklearn/model_selection/_search.py?line=875'>876</a>\u001b[0m \u001b[39m# multimetric is determined here because in the case of a callable\u001b[39;00m\n\u001b[1;32m    <a href='file:///Users/anishafujii/opt/anaconda3/lib/python3.9/site-packages/sklearn/model_selection/_search.py?line=876'>877</a>\u001b[0m \u001b[39m# self.scoring the return type is only known after calling\u001b[39;00m\n\u001b[1;32m    <a href='file:///Users/anishafujii/opt/anaconda3/lib/python3.9/site-packages/sklearn/model_selection/_search.py?line=877'>878</a>\u001b[0m first_test_score \u001b[39m=\u001b[39m all_out[\u001b[39m0\u001b[39m][\u001b[39m\"\u001b[39m\u001b[39mtest_scores\u001b[39m\u001b[39m\"\u001b[39m]\n",
      "File \u001b[0;32m~/opt/anaconda3/lib/python3.9/site-packages/sklearn/model_selection/_search.py:1768\u001b[0m, in \u001b[0;36mRandomizedSearchCV._run_search\u001b[0;34m(self, evaluate_candidates)\u001b[0m\n\u001b[1;32m   <a href='file:///Users/anishafujii/opt/anaconda3/lib/python3.9/site-packages/sklearn/model_selection/_search.py?line=1765'>1766</a>\u001b[0m \u001b[39mdef\u001b[39;00m \u001b[39m_run_search\u001b[39m(\u001b[39mself\u001b[39m, evaluate_candidates):\n\u001b[1;32m   <a href='file:///Users/anishafujii/opt/anaconda3/lib/python3.9/site-packages/sklearn/model_selection/_search.py?line=1766'>1767</a>\u001b[0m     \u001b[39m\"\"\"Search n_iter candidates from param_distributions\"\"\"\u001b[39;00m\n\u001b[0;32m-> <a href='file:///Users/anishafujii/opt/anaconda3/lib/python3.9/site-packages/sklearn/model_selection/_search.py?line=1767'>1768</a>\u001b[0m     evaluate_candidates(\n\u001b[1;32m   <a href='file:///Users/anishafujii/opt/anaconda3/lib/python3.9/site-packages/sklearn/model_selection/_search.py?line=1768'>1769</a>\u001b[0m         ParameterSampler(\n\u001b[1;32m   <a href='file:///Users/anishafujii/opt/anaconda3/lib/python3.9/site-packages/sklearn/model_selection/_search.py?line=1769'>1770</a>\u001b[0m             \u001b[39mself\u001b[39;49m\u001b[39m.\u001b[39;49mparam_distributions, \u001b[39mself\u001b[39;49m\u001b[39m.\u001b[39;49mn_iter, random_state\u001b[39m=\u001b[39;49m\u001b[39mself\u001b[39;49m\u001b[39m.\u001b[39;49mrandom_state\n\u001b[1;32m   <a href='file:///Users/anishafujii/opt/anaconda3/lib/python3.9/site-packages/sklearn/model_selection/_search.py?line=1770'>1771</a>\u001b[0m         )\n\u001b[1;32m   <a href='file:///Users/anishafujii/opt/anaconda3/lib/python3.9/site-packages/sklearn/model_selection/_search.py?line=1771'>1772</a>\u001b[0m     )\n",
      "File \u001b[0;32m~/opt/anaconda3/lib/python3.9/site-packages/sklearn/model_selection/_search.py:821\u001b[0m, in \u001b[0;36mBaseSearchCV.fit.<locals>.evaluate_candidates\u001b[0;34m(candidate_params, cv, more_results)\u001b[0m\n\u001b[1;32m    <a href='file:///Users/anishafujii/opt/anaconda3/lib/python3.9/site-packages/sklearn/model_selection/_search.py?line=812'>813</a>\u001b[0m \u001b[39mif\u001b[39;00m \u001b[39mself\u001b[39m\u001b[39m.\u001b[39mverbose \u001b[39m>\u001b[39m \u001b[39m0\u001b[39m:\n\u001b[1;32m    <a href='file:///Users/anishafujii/opt/anaconda3/lib/python3.9/site-packages/sklearn/model_selection/_search.py?line=813'>814</a>\u001b[0m     \u001b[39mprint\u001b[39m(\n\u001b[1;32m    <a href='file:///Users/anishafujii/opt/anaconda3/lib/python3.9/site-packages/sklearn/model_selection/_search.py?line=814'>815</a>\u001b[0m         \u001b[39m\"\u001b[39m\u001b[39mFitting \u001b[39m\u001b[39m{0}\u001b[39;00m\u001b[39m folds for each of \u001b[39m\u001b[39m{1}\u001b[39;00m\u001b[39m candidates,\u001b[39m\u001b[39m\"\u001b[39m\n\u001b[1;32m    <a href='file:///Users/anishafujii/opt/anaconda3/lib/python3.9/site-packages/sklearn/model_selection/_search.py?line=815'>816</a>\u001b[0m         \u001b[39m\"\u001b[39m\u001b[39m totalling \u001b[39m\u001b[39m{2}\u001b[39;00m\u001b[39m fits\u001b[39m\u001b[39m\"\u001b[39m\u001b[39m.\u001b[39mformat(\n\u001b[1;32m    <a href='file:///Users/anishafujii/opt/anaconda3/lib/python3.9/site-packages/sklearn/model_selection/_search.py?line=816'>817</a>\u001b[0m             n_splits, n_candidates, n_candidates \u001b[39m*\u001b[39m n_splits\n\u001b[1;32m    <a href='file:///Users/anishafujii/opt/anaconda3/lib/python3.9/site-packages/sklearn/model_selection/_search.py?line=817'>818</a>\u001b[0m         )\n\u001b[1;32m    <a href='file:///Users/anishafujii/opt/anaconda3/lib/python3.9/site-packages/sklearn/model_selection/_search.py?line=818'>819</a>\u001b[0m     )\n\u001b[0;32m--> <a href='file:///Users/anishafujii/opt/anaconda3/lib/python3.9/site-packages/sklearn/model_selection/_search.py?line=820'>821</a>\u001b[0m out \u001b[39m=\u001b[39m parallel(\n\u001b[1;32m    <a href='file:///Users/anishafujii/opt/anaconda3/lib/python3.9/site-packages/sklearn/model_selection/_search.py?line=821'>822</a>\u001b[0m     delayed(_fit_and_score)(\n\u001b[1;32m    <a href='file:///Users/anishafujii/opt/anaconda3/lib/python3.9/site-packages/sklearn/model_selection/_search.py?line=822'>823</a>\u001b[0m         clone(base_estimator),\n\u001b[1;32m    <a href='file:///Users/anishafujii/opt/anaconda3/lib/python3.9/site-packages/sklearn/model_selection/_search.py?line=823'>824</a>\u001b[0m         X,\n\u001b[1;32m    <a href='file:///Users/anishafujii/opt/anaconda3/lib/python3.9/site-packages/sklearn/model_selection/_search.py?line=824'>825</a>\u001b[0m         y,\n\u001b[1;32m    <a href='file:///Users/anishafujii/opt/anaconda3/lib/python3.9/site-packages/sklearn/model_selection/_search.py?line=825'>826</a>\u001b[0m         train\u001b[39m=\u001b[39;49mtrain,\n\u001b[1;32m    <a href='file:///Users/anishafujii/opt/anaconda3/lib/python3.9/site-packages/sklearn/model_selection/_search.py?line=826'>827</a>\u001b[0m         test\u001b[39m=\u001b[39;49mtest,\n\u001b[1;32m    <a href='file:///Users/anishafujii/opt/anaconda3/lib/python3.9/site-packages/sklearn/model_selection/_search.py?line=827'>828</a>\u001b[0m         parameters\u001b[39m=\u001b[39;49mparameters,\n\u001b[1;32m    <a href='file:///Users/anishafujii/opt/anaconda3/lib/python3.9/site-packages/sklearn/model_selection/_search.py?line=828'>829</a>\u001b[0m         split_progress\u001b[39m=\u001b[39;49m(split_idx, n_splits),\n\u001b[1;32m    <a href='file:///Users/anishafujii/opt/anaconda3/lib/python3.9/site-packages/sklearn/model_selection/_search.py?line=829'>830</a>\u001b[0m         candidate_progress\u001b[39m=\u001b[39;49m(cand_idx, n_candidates),\n\u001b[1;32m    <a href='file:///Users/anishafujii/opt/anaconda3/lib/python3.9/site-packages/sklearn/model_selection/_search.py?line=830'>831</a>\u001b[0m         \u001b[39m*\u001b[39;49m\u001b[39m*\u001b[39;49mfit_and_score_kwargs,\n\u001b[1;32m    <a href='file:///Users/anishafujii/opt/anaconda3/lib/python3.9/site-packages/sklearn/model_selection/_search.py?line=831'>832</a>\u001b[0m     )\n\u001b[1;32m    <a href='file:///Users/anishafujii/opt/anaconda3/lib/python3.9/site-packages/sklearn/model_selection/_search.py?line=832'>833</a>\u001b[0m     \u001b[39mfor\u001b[39;49;00m (cand_idx, parameters), (split_idx, (train, test)) \u001b[39min\u001b[39;49;00m product(\n\u001b[1;32m    <a href='file:///Users/anishafujii/opt/anaconda3/lib/python3.9/site-packages/sklearn/model_selection/_search.py?line=833'>834</a>\u001b[0m         \u001b[39menumerate\u001b[39;49m(candidate_params), \u001b[39menumerate\u001b[39;49m(cv\u001b[39m.\u001b[39;49msplit(X, y, groups))\n\u001b[1;32m    <a href='file:///Users/anishafujii/opt/anaconda3/lib/python3.9/site-packages/sklearn/model_selection/_search.py?line=834'>835</a>\u001b[0m     )\n\u001b[1;32m    <a href='file:///Users/anishafujii/opt/anaconda3/lib/python3.9/site-packages/sklearn/model_selection/_search.py?line=835'>836</a>\u001b[0m )\n\u001b[1;32m    <a href='file:///Users/anishafujii/opt/anaconda3/lib/python3.9/site-packages/sklearn/model_selection/_search.py?line=837'>838</a>\u001b[0m \u001b[39mif\u001b[39;00m \u001b[39mlen\u001b[39m(out) \u001b[39m<\u001b[39m \u001b[39m1\u001b[39m:\n\u001b[1;32m    <a href='file:///Users/anishafujii/opt/anaconda3/lib/python3.9/site-packages/sklearn/model_selection/_search.py?line=838'>839</a>\u001b[0m     \u001b[39mraise\u001b[39;00m \u001b[39mValueError\u001b[39;00m(\n\u001b[1;32m    <a href='file:///Users/anishafujii/opt/anaconda3/lib/python3.9/site-packages/sklearn/model_selection/_search.py?line=839'>840</a>\u001b[0m         \u001b[39m\"\u001b[39m\u001b[39mNo fits were performed. \u001b[39m\u001b[39m\"\u001b[39m\n\u001b[1;32m    <a href='file:///Users/anishafujii/opt/anaconda3/lib/python3.9/site-packages/sklearn/model_selection/_search.py?line=840'>841</a>\u001b[0m         \u001b[39m\"\u001b[39m\u001b[39mWas the CV iterator empty? \u001b[39m\u001b[39m\"\u001b[39m\n\u001b[1;32m    <a href='file:///Users/anishafujii/opt/anaconda3/lib/python3.9/site-packages/sklearn/model_selection/_search.py?line=841'>842</a>\u001b[0m         \u001b[39m\"\u001b[39m\u001b[39mWere there no candidates?\u001b[39m\u001b[39m\"\u001b[39m\n\u001b[1;32m    <a href='file:///Users/anishafujii/opt/anaconda3/lib/python3.9/site-packages/sklearn/model_selection/_search.py?line=842'>843</a>\u001b[0m     )\n",
      "File \u001b[0;32m~/opt/anaconda3/lib/python3.9/site-packages/sklearn/utils/parallel.py:63\u001b[0m, in \u001b[0;36mParallel.__call__\u001b[0;34m(self, iterable)\u001b[0m\n\u001b[1;32m     <a href='file:///Users/anishafujii/opt/anaconda3/lib/python3.9/site-packages/sklearn/utils/parallel.py?line=57'>58</a>\u001b[0m config \u001b[39m=\u001b[39m get_config()\n\u001b[1;32m     <a href='file:///Users/anishafujii/opt/anaconda3/lib/python3.9/site-packages/sklearn/utils/parallel.py?line=58'>59</a>\u001b[0m iterable_with_config \u001b[39m=\u001b[39m (\n\u001b[1;32m     <a href='file:///Users/anishafujii/opt/anaconda3/lib/python3.9/site-packages/sklearn/utils/parallel.py?line=59'>60</a>\u001b[0m     (_with_config(delayed_func, config), args, kwargs)\n\u001b[1;32m     <a href='file:///Users/anishafujii/opt/anaconda3/lib/python3.9/site-packages/sklearn/utils/parallel.py?line=60'>61</a>\u001b[0m     \u001b[39mfor\u001b[39;00m delayed_func, args, kwargs \u001b[39min\u001b[39;00m iterable\n\u001b[1;32m     <a href='file:///Users/anishafujii/opt/anaconda3/lib/python3.9/site-packages/sklearn/utils/parallel.py?line=61'>62</a>\u001b[0m )\n\u001b[0;32m---> <a href='file:///Users/anishafujii/opt/anaconda3/lib/python3.9/site-packages/sklearn/utils/parallel.py?line=62'>63</a>\u001b[0m \u001b[39mreturn\u001b[39;00m \u001b[39msuper\u001b[39;49m()\u001b[39m.\u001b[39;49m\u001b[39m__call__\u001b[39;49m(iterable_with_config)\n",
      "File \u001b[0;32m~/opt/anaconda3/lib/python3.9/site-packages/joblib/parallel.py:1088\u001b[0m, in \u001b[0;36mParallel.__call__\u001b[0;34m(self, iterable)\u001b[0m\n\u001b[1;32m   <a href='file:///Users/anishafujii/opt/anaconda3/lib/python3.9/site-packages/joblib/parallel.py?line=1084'>1085</a>\u001b[0m \u001b[39mif\u001b[39;00m \u001b[39mself\u001b[39m\u001b[39m.\u001b[39mdispatch_one_batch(iterator):\n\u001b[1;32m   <a href='file:///Users/anishafujii/opt/anaconda3/lib/python3.9/site-packages/joblib/parallel.py?line=1085'>1086</a>\u001b[0m     \u001b[39mself\u001b[39m\u001b[39m.\u001b[39m_iterating \u001b[39m=\u001b[39m \u001b[39mself\u001b[39m\u001b[39m.\u001b[39m_original_iterator \u001b[39mis\u001b[39;00m \u001b[39mnot\u001b[39;00m \u001b[39mNone\u001b[39;00m\n\u001b[0;32m-> <a href='file:///Users/anishafujii/opt/anaconda3/lib/python3.9/site-packages/joblib/parallel.py?line=1087'>1088</a>\u001b[0m \u001b[39mwhile\u001b[39;00m \u001b[39mself\u001b[39;49m\u001b[39m.\u001b[39;49mdispatch_one_batch(iterator):\n\u001b[1;32m   <a href='file:///Users/anishafujii/opt/anaconda3/lib/python3.9/site-packages/joblib/parallel.py?line=1088'>1089</a>\u001b[0m     \u001b[39mpass\u001b[39;00m\n\u001b[1;32m   <a href='file:///Users/anishafujii/opt/anaconda3/lib/python3.9/site-packages/joblib/parallel.py?line=1090'>1091</a>\u001b[0m \u001b[39mif\u001b[39;00m pre_dispatch \u001b[39m==\u001b[39m \u001b[39m\"\u001b[39m\u001b[39mall\u001b[39m\u001b[39m\"\u001b[39m \u001b[39mor\u001b[39;00m n_jobs \u001b[39m==\u001b[39m \u001b[39m1\u001b[39m:\n\u001b[1;32m   <a href='file:///Users/anishafujii/opt/anaconda3/lib/python3.9/site-packages/joblib/parallel.py?line=1091'>1092</a>\u001b[0m     \u001b[39m# The iterable was consumed all at once by the above for loop.\u001b[39;00m\n\u001b[1;32m   <a href='file:///Users/anishafujii/opt/anaconda3/lib/python3.9/site-packages/joblib/parallel.py?line=1092'>1093</a>\u001b[0m     \u001b[39m# No need to wait for async callbacks to trigger to\u001b[39;00m\n\u001b[1;32m   <a href='file:///Users/anishafujii/opt/anaconda3/lib/python3.9/site-packages/joblib/parallel.py?line=1093'>1094</a>\u001b[0m     \u001b[39m# consumption.\u001b[39;00m\n",
      "File \u001b[0;32m~/opt/anaconda3/lib/python3.9/site-packages/joblib/parallel.py:901\u001b[0m, in \u001b[0;36mParallel.dispatch_one_batch\u001b[0;34m(self, iterator)\u001b[0m\n\u001b[1;32m    <a href='file:///Users/anishafujii/opt/anaconda3/lib/python3.9/site-packages/joblib/parallel.py?line=898'>899</a>\u001b[0m     \u001b[39mreturn\u001b[39;00m \u001b[39mFalse\u001b[39;00m\n\u001b[1;32m    <a href='file:///Users/anishafujii/opt/anaconda3/lib/python3.9/site-packages/joblib/parallel.py?line=899'>900</a>\u001b[0m \u001b[39melse\u001b[39;00m:\n\u001b[0;32m--> <a href='file:///Users/anishafujii/opt/anaconda3/lib/python3.9/site-packages/joblib/parallel.py?line=900'>901</a>\u001b[0m     \u001b[39mself\u001b[39;49m\u001b[39m.\u001b[39;49m_dispatch(tasks)\n\u001b[1;32m    <a href='file:///Users/anishafujii/opt/anaconda3/lib/python3.9/site-packages/joblib/parallel.py?line=901'>902</a>\u001b[0m     \u001b[39mreturn\u001b[39;00m \u001b[39mTrue\u001b[39;00m\n",
      "File \u001b[0;32m~/opt/anaconda3/lib/python3.9/site-packages/joblib/parallel.py:819\u001b[0m, in \u001b[0;36mParallel._dispatch\u001b[0;34m(self, batch)\u001b[0m\n\u001b[1;32m    <a href='file:///Users/anishafujii/opt/anaconda3/lib/python3.9/site-packages/joblib/parallel.py?line=816'>817</a>\u001b[0m \u001b[39mwith\u001b[39;00m \u001b[39mself\u001b[39m\u001b[39m.\u001b[39m_lock:\n\u001b[1;32m    <a href='file:///Users/anishafujii/opt/anaconda3/lib/python3.9/site-packages/joblib/parallel.py?line=817'>818</a>\u001b[0m     job_idx \u001b[39m=\u001b[39m \u001b[39mlen\u001b[39m(\u001b[39mself\u001b[39m\u001b[39m.\u001b[39m_jobs)\n\u001b[0;32m--> <a href='file:///Users/anishafujii/opt/anaconda3/lib/python3.9/site-packages/joblib/parallel.py?line=818'>819</a>\u001b[0m     job \u001b[39m=\u001b[39m \u001b[39mself\u001b[39;49m\u001b[39m.\u001b[39;49m_backend\u001b[39m.\u001b[39;49mapply_async(batch, callback\u001b[39m=\u001b[39;49mcb)\n\u001b[1;32m    <a href='file:///Users/anishafujii/opt/anaconda3/lib/python3.9/site-packages/joblib/parallel.py?line=819'>820</a>\u001b[0m     \u001b[39m# A job can complete so quickly than its callback is\u001b[39;00m\n\u001b[1;32m    <a href='file:///Users/anishafujii/opt/anaconda3/lib/python3.9/site-packages/joblib/parallel.py?line=820'>821</a>\u001b[0m     \u001b[39m# called before we get here, causing self._jobs to\u001b[39;00m\n\u001b[1;32m    <a href='file:///Users/anishafujii/opt/anaconda3/lib/python3.9/site-packages/joblib/parallel.py?line=821'>822</a>\u001b[0m     \u001b[39m# grow. To ensure correct results ordering, .insert is\u001b[39;00m\n\u001b[1;32m    <a href='file:///Users/anishafujii/opt/anaconda3/lib/python3.9/site-packages/joblib/parallel.py?line=822'>823</a>\u001b[0m     \u001b[39m# used (rather than .append) in the following line\u001b[39;00m\n\u001b[1;32m    <a href='file:///Users/anishafujii/opt/anaconda3/lib/python3.9/site-packages/joblib/parallel.py?line=823'>824</a>\u001b[0m     \u001b[39mself\u001b[39m\u001b[39m.\u001b[39m_jobs\u001b[39m.\u001b[39minsert(job_idx, job)\n",
      "File \u001b[0;32m~/opt/anaconda3/lib/python3.9/site-packages/joblib/_parallel_backends.py:208\u001b[0m, in \u001b[0;36mSequentialBackend.apply_async\u001b[0;34m(self, func, callback)\u001b[0m\n\u001b[1;32m    <a href='file:///Users/anishafujii/opt/anaconda3/lib/python3.9/site-packages/joblib/_parallel_backends.py?line=205'>206</a>\u001b[0m \u001b[39mdef\u001b[39;00m \u001b[39mapply_async\u001b[39m(\u001b[39mself\u001b[39m, func, callback\u001b[39m=\u001b[39m\u001b[39mNone\u001b[39;00m):\n\u001b[1;32m    <a href='file:///Users/anishafujii/opt/anaconda3/lib/python3.9/site-packages/joblib/_parallel_backends.py?line=206'>207</a>\u001b[0m     \u001b[39m\"\"\"Schedule a func to be run\"\"\"\u001b[39;00m\n\u001b[0;32m--> <a href='file:///Users/anishafujii/opt/anaconda3/lib/python3.9/site-packages/joblib/_parallel_backends.py?line=207'>208</a>\u001b[0m     result \u001b[39m=\u001b[39m ImmediateResult(func)\n\u001b[1;32m    <a href='file:///Users/anishafujii/opt/anaconda3/lib/python3.9/site-packages/joblib/_parallel_backends.py?line=208'>209</a>\u001b[0m     \u001b[39mif\u001b[39;00m callback:\n\u001b[1;32m    <a href='file:///Users/anishafujii/opt/anaconda3/lib/python3.9/site-packages/joblib/_parallel_backends.py?line=209'>210</a>\u001b[0m         callback(result)\n",
      "File \u001b[0;32m~/opt/anaconda3/lib/python3.9/site-packages/joblib/_parallel_backends.py:597\u001b[0m, in \u001b[0;36mImmediateResult.__init__\u001b[0;34m(self, batch)\u001b[0m\n\u001b[1;32m    <a href='file:///Users/anishafujii/opt/anaconda3/lib/python3.9/site-packages/joblib/_parallel_backends.py?line=593'>594</a>\u001b[0m \u001b[39mdef\u001b[39;00m \u001b[39m__init__\u001b[39m(\u001b[39mself\u001b[39m, batch):\n\u001b[1;32m    <a href='file:///Users/anishafujii/opt/anaconda3/lib/python3.9/site-packages/joblib/_parallel_backends.py?line=594'>595</a>\u001b[0m     \u001b[39m# Don't delay the application, to avoid keeping the input\u001b[39;00m\n\u001b[1;32m    <a href='file:///Users/anishafujii/opt/anaconda3/lib/python3.9/site-packages/joblib/_parallel_backends.py?line=595'>596</a>\u001b[0m     \u001b[39m# arguments in memory\u001b[39;00m\n\u001b[0;32m--> <a href='file:///Users/anishafujii/opt/anaconda3/lib/python3.9/site-packages/joblib/_parallel_backends.py?line=596'>597</a>\u001b[0m     \u001b[39mself\u001b[39m\u001b[39m.\u001b[39mresults \u001b[39m=\u001b[39m batch()\n",
      "File \u001b[0;32m~/opt/anaconda3/lib/python3.9/site-packages/joblib/parallel.py:288\u001b[0m, in \u001b[0;36mBatchedCalls.__call__\u001b[0;34m(self)\u001b[0m\n\u001b[1;32m    <a href='file:///Users/anishafujii/opt/anaconda3/lib/python3.9/site-packages/joblib/parallel.py?line=283'>284</a>\u001b[0m \u001b[39mdef\u001b[39;00m \u001b[39m__call__\u001b[39m(\u001b[39mself\u001b[39m):\n\u001b[1;32m    <a href='file:///Users/anishafujii/opt/anaconda3/lib/python3.9/site-packages/joblib/parallel.py?line=284'>285</a>\u001b[0m     \u001b[39m# Set the default nested backend to self._backend but do not set the\u001b[39;00m\n\u001b[1;32m    <a href='file:///Users/anishafujii/opt/anaconda3/lib/python3.9/site-packages/joblib/parallel.py?line=285'>286</a>\u001b[0m     \u001b[39m# change the default number of processes to -1\u001b[39;00m\n\u001b[1;32m    <a href='file:///Users/anishafujii/opt/anaconda3/lib/python3.9/site-packages/joblib/parallel.py?line=286'>287</a>\u001b[0m     \u001b[39mwith\u001b[39;00m parallel_backend(\u001b[39mself\u001b[39m\u001b[39m.\u001b[39m_backend, n_jobs\u001b[39m=\u001b[39m\u001b[39mself\u001b[39m\u001b[39m.\u001b[39m_n_jobs):\n\u001b[0;32m--> <a href='file:///Users/anishafujii/opt/anaconda3/lib/python3.9/site-packages/joblib/parallel.py?line=287'>288</a>\u001b[0m         \u001b[39mreturn\u001b[39;00m [func(\u001b[39m*\u001b[39margs, \u001b[39m*\u001b[39m\u001b[39m*\u001b[39mkwargs)\n\u001b[1;32m    <a href='file:///Users/anishafujii/opt/anaconda3/lib/python3.9/site-packages/joblib/parallel.py?line=288'>289</a>\u001b[0m                 \u001b[39mfor\u001b[39;00m func, args, kwargs \u001b[39min\u001b[39;00m \u001b[39mself\u001b[39m\u001b[39m.\u001b[39mitems]\n",
      "File \u001b[0;32m~/opt/anaconda3/lib/python3.9/site-packages/joblib/parallel.py:288\u001b[0m, in \u001b[0;36m<listcomp>\u001b[0;34m(.0)\u001b[0m\n\u001b[1;32m    <a href='file:///Users/anishafujii/opt/anaconda3/lib/python3.9/site-packages/joblib/parallel.py?line=283'>284</a>\u001b[0m \u001b[39mdef\u001b[39;00m \u001b[39m__call__\u001b[39m(\u001b[39mself\u001b[39m):\n\u001b[1;32m    <a href='file:///Users/anishafujii/opt/anaconda3/lib/python3.9/site-packages/joblib/parallel.py?line=284'>285</a>\u001b[0m     \u001b[39m# Set the default nested backend to self._backend but do not set the\u001b[39;00m\n\u001b[1;32m    <a href='file:///Users/anishafujii/opt/anaconda3/lib/python3.9/site-packages/joblib/parallel.py?line=285'>286</a>\u001b[0m     \u001b[39m# change the default number of processes to -1\u001b[39;00m\n\u001b[1;32m    <a href='file:///Users/anishafujii/opt/anaconda3/lib/python3.9/site-packages/joblib/parallel.py?line=286'>287</a>\u001b[0m     \u001b[39mwith\u001b[39;00m parallel_backend(\u001b[39mself\u001b[39m\u001b[39m.\u001b[39m_backend, n_jobs\u001b[39m=\u001b[39m\u001b[39mself\u001b[39m\u001b[39m.\u001b[39m_n_jobs):\n\u001b[0;32m--> <a href='file:///Users/anishafujii/opt/anaconda3/lib/python3.9/site-packages/joblib/parallel.py?line=287'>288</a>\u001b[0m         \u001b[39mreturn\u001b[39;00m [func(\u001b[39m*\u001b[39;49margs, \u001b[39m*\u001b[39;49m\u001b[39m*\u001b[39;49mkwargs)\n\u001b[1;32m    <a href='file:///Users/anishafujii/opt/anaconda3/lib/python3.9/site-packages/joblib/parallel.py?line=288'>289</a>\u001b[0m                 \u001b[39mfor\u001b[39;00m func, args, kwargs \u001b[39min\u001b[39;00m \u001b[39mself\u001b[39m\u001b[39m.\u001b[39mitems]\n",
      "File \u001b[0;32m~/opt/anaconda3/lib/python3.9/site-packages/sklearn/utils/parallel.py:123\u001b[0m, in \u001b[0;36m_FuncWrapper.__call__\u001b[0;34m(self, *args, **kwargs)\u001b[0m\n\u001b[1;32m    <a href='file:///Users/anishafujii/opt/anaconda3/lib/python3.9/site-packages/sklearn/utils/parallel.py?line=120'>121</a>\u001b[0m     config \u001b[39m=\u001b[39m {}\n\u001b[1;32m    <a href='file:///Users/anishafujii/opt/anaconda3/lib/python3.9/site-packages/sklearn/utils/parallel.py?line=121'>122</a>\u001b[0m \u001b[39mwith\u001b[39;00m config_context(\u001b[39m*\u001b[39m\u001b[39m*\u001b[39mconfig):\n\u001b[0;32m--> <a href='file:///Users/anishafujii/opt/anaconda3/lib/python3.9/site-packages/sklearn/utils/parallel.py?line=122'>123</a>\u001b[0m     \u001b[39mreturn\u001b[39;00m \u001b[39mself\u001b[39;49m\u001b[39m.\u001b[39;49mfunction(\u001b[39m*\u001b[39;49margs, \u001b[39m*\u001b[39;49m\u001b[39m*\u001b[39;49mkwargs)\n",
      "File \u001b[0;32m~/opt/anaconda3/lib/python3.9/site-packages/sklearn/model_selection/_validation.py:686\u001b[0m, in \u001b[0;36m_fit_and_score\u001b[0;34m(estimator, X, y, scorer, train, test, verbose, parameters, fit_params, return_train_score, return_parameters, return_n_test_samples, return_times, return_estimator, split_progress, candidate_progress, error_score)\u001b[0m\n\u001b[1;32m    <a href='file:///Users/anishafujii/opt/anaconda3/lib/python3.9/site-packages/sklearn/model_selection/_validation.py?line=683'>684</a>\u001b[0m         estimator\u001b[39m.\u001b[39mfit(X_train, \u001b[39m*\u001b[39m\u001b[39m*\u001b[39mfit_params)\n\u001b[1;32m    <a href='file:///Users/anishafujii/opt/anaconda3/lib/python3.9/site-packages/sklearn/model_selection/_validation.py?line=684'>685</a>\u001b[0m     \u001b[39melse\u001b[39;00m:\n\u001b[0;32m--> <a href='file:///Users/anishafujii/opt/anaconda3/lib/python3.9/site-packages/sklearn/model_selection/_validation.py?line=685'>686</a>\u001b[0m         estimator\u001b[39m.\u001b[39;49mfit(X_train, y_train, \u001b[39m*\u001b[39;49m\u001b[39m*\u001b[39;49mfit_params)\n\u001b[1;32m    <a href='file:///Users/anishafujii/opt/anaconda3/lib/python3.9/site-packages/sklearn/model_selection/_validation.py?line=687'>688</a>\u001b[0m \u001b[39mexcept\u001b[39;00m \u001b[39mException\u001b[39;00m:\n\u001b[1;32m    <a href='file:///Users/anishafujii/opt/anaconda3/lib/python3.9/site-packages/sklearn/model_selection/_validation.py?line=688'>689</a>\u001b[0m     \u001b[39m# Note fit time as time until error\u001b[39;00m\n\u001b[1;32m    <a href='file:///Users/anishafujii/opt/anaconda3/lib/python3.9/site-packages/sklearn/model_selection/_validation.py?line=689'>690</a>\u001b[0m     fit_time \u001b[39m=\u001b[39m time\u001b[39m.\u001b[39mtime() \u001b[39m-\u001b[39m start_time\n",
      "File \u001b[0;32m~/opt/anaconda3/lib/python3.9/site-packages/keras/wrappers/scikit_learn.py:248\u001b[0m, in \u001b[0;36mKerasClassifier.fit\u001b[0;34m(self, x, y, **kwargs)\u001b[0m\n\u001b[1;32m    <a href='file:///Users/anishafujii/opt/anaconda3/lib/python3.9/site-packages/keras/wrappers/scikit_learn.py?line=245'>246</a>\u001b[0m     \u001b[39mraise\u001b[39;00m \u001b[39mValueError\u001b[39;00m(\u001b[39m\"\u001b[39m\u001b[39mInvalid shape for y: \u001b[39m\u001b[39m\"\u001b[39m \u001b[39m+\u001b[39m \u001b[39mstr\u001b[39m(y\u001b[39m.\u001b[39mshape))\n\u001b[1;32m    <a href='file:///Users/anishafujii/opt/anaconda3/lib/python3.9/site-packages/keras/wrappers/scikit_learn.py?line=246'>247</a>\u001b[0m \u001b[39mself\u001b[39m\u001b[39m.\u001b[39mn_classes_ \u001b[39m=\u001b[39m \u001b[39mlen\u001b[39m(\u001b[39mself\u001b[39m\u001b[39m.\u001b[39mclasses_)\n\u001b[0;32m--> <a href='file:///Users/anishafujii/opt/anaconda3/lib/python3.9/site-packages/keras/wrappers/scikit_learn.py?line=247'>248</a>\u001b[0m \u001b[39mreturn\u001b[39;00m \u001b[39msuper\u001b[39;49m()\u001b[39m.\u001b[39;49mfit(x, y, \u001b[39m*\u001b[39;49m\u001b[39m*\u001b[39;49mkwargs)\n",
      "File \u001b[0;32m~/opt/anaconda3/lib/python3.9/site-packages/keras/wrappers/scikit_learn.py:175\u001b[0m, in \u001b[0;36mBaseWrapper.fit\u001b[0;34m(self, x, y, **kwargs)\u001b[0m\n\u001b[1;32m    <a href='file:///Users/anishafujii/opt/anaconda3/lib/python3.9/site-packages/keras/wrappers/scikit_learn.py?line=171'>172</a>\u001b[0m fit_args \u001b[39m=\u001b[39m copy\u001b[39m.\u001b[39mdeepcopy(\u001b[39mself\u001b[39m\u001b[39m.\u001b[39mfilter_sk_params(Sequential\u001b[39m.\u001b[39mfit))\n\u001b[1;32m    <a href='file:///Users/anishafujii/opt/anaconda3/lib/python3.9/site-packages/keras/wrappers/scikit_learn.py?line=172'>173</a>\u001b[0m fit_args\u001b[39m.\u001b[39mupdate(kwargs)\n\u001b[0;32m--> <a href='file:///Users/anishafujii/opt/anaconda3/lib/python3.9/site-packages/keras/wrappers/scikit_learn.py?line=174'>175</a>\u001b[0m history \u001b[39m=\u001b[39m \u001b[39mself\u001b[39;49m\u001b[39m.\u001b[39;49mmodel\u001b[39m.\u001b[39;49mfit(x, y, \u001b[39m*\u001b[39;49m\u001b[39m*\u001b[39;49mfit_args)\n\u001b[1;32m    <a href='file:///Users/anishafujii/opt/anaconda3/lib/python3.9/site-packages/keras/wrappers/scikit_learn.py?line=176'>177</a>\u001b[0m \u001b[39mreturn\u001b[39;00m history\n",
      "File \u001b[0;32m~/opt/anaconda3/lib/python3.9/site-packages/keras/utils/traceback_utils.py:65\u001b[0m, in \u001b[0;36mfilter_traceback.<locals>.error_handler\u001b[0;34m(*args, **kwargs)\u001b[0m\n\u001b[1;32m     <a href='file:///Users/anishafujii/opt/anaconda3/lib/python3.9/site-packages/keras/utils/traceback_utils.py?line=62'>63</a>\u001b[0m filtered_tb \u001b[39m=\u001b[39m \u001b[39mNone\u001b[39;00m\n\u001b[1;32m     <a href='file:///Users/anishafujii/opt/anaconda3/lib/python3.9/site-packages/keras/utils/traceback_utils.py?line=63'>64</a>\u001b[0m \u001b[39mtry\u001b[39;00m:\n\u001b[0;32m---> <a href='file:///Users/anishafujii/opt/anaconda3/lib/python3.9/site-packages/keras/utils/traceback_utils.py?line=64'>65</a>\u001b[0m     \u001b[39mreturn\u001b[39;00m fn(\u001b[39m*\u001b[39;49margs, \u001b[39m*\u001b[39;49m\u001b[39m*\u001b[39;49mkwargs)\n\u001b[1;32m     <a href='file:///Users/anishafujii/opt/anaconda3/lib/python3.9/site-packages/keras/utils/traceback_utils.py?line=65'>66</a>\u001b[0m \u001b[39mexcept\u001b[39;00m \u001b[39mException\u001b[39;00m \u001b[39mas\u001b[39;00m e:\n\u001b[1;32m     <a href='file:///Users/anishafujii/opt/anaconda3/lib/python3.9/site-packages/keras/utils/traceback_utils.py?line=66'>67</a>\u001b[0m     filtered_tb \u001b[39m=\u001b[39m _process_traceback_frames(e\u001b[39m.\u001b[39m__traceback__)\n",
      "File \u001b[0;32m~/opt/anaconda3/lib/python3.9/site-packages/keras/engine/training.py:1685\u001b[0m, in \u001b[0;36mModel.fit\u001b[0;34m(self, x, y, batch_size, epochs, verbose, callbacks, validation_split, validation_data, shuffle, class_weight, sample_weight, initial_epoch, steps_per_epoch, validation_steps, validation_batch_size, validation_freq, max_queue_size, workers, use_multiprocessing)\u001b[0m\n\u001b[1;32m   <a href='file:///Users/anishafujii/opt/anaconda3/lib/python3.9/site-packages/keras/engine/training.py?line=1676'>1677</a>\u001b[0m \u001b[39mwith\u001b[39;00m tf\u001b[39m.\u001b[39mprofiler\u001b[39m.\u001b[39mexperimental\u001b[39m.\u001b[39mTrace(\n\u001b[1;32m   <a href='file:///Users/anishafujii/opt/anaconda3/lib/python3.9/site-packages/keras/engine/training.py?line=1677'>1678</a>\u001b[0m     \u001b[39m\"\u001b[39m\u001b[39mtrain\u001b[39m\u001b[39m\"\u001b[39m,\n\u001b[1;32m   <a href='file:///Users/anishafujii/opt/anaconda3/lib/python3.9/site-packages/keras/engine/training.py?line=1678'>1679</a>\u001b[0m     epoch_num\u001b[39m=\u001b[39mepoch,\n\u001b[0;32m   (...)\u001b[0m\n\u001b[1;32m   <a href='file:///Users/anishafujii/opt/anaconda3/lib/python3.9/site-packages/keras/engine/training.py?line=1681'>1682</a>\u001b[0m     _r\u001b[39m=\u001b[39m\u001b[39m1\u001b[39m,\n\u001b[1;32m   <a href='file:///Users/anishafujii/opt/anaconda3/lib/python3.9/site-packages/keras/engine/training.py?line=1682'>1683</a>\u001b[0m ):\n\u001b[1;32m   <a href='file:///Users/anishafujii/opt/anaconda3/lib/python3.9/site-packages/keras/engine/training.py?line=1683'>1684</a>\u001b[0m     callbacks\u001b[39m.\u001b[39mon_train_batch_begin(step)\n\u001b[0;32m-> <a href='file:///Users/anishafujii/opt/anaconda3/lib/python3.9/site-packages/keras/engine/training.py?line=1684'>1685</a>\u001b[0m     tmp_logs \u001b[39m=\u001b[39m \u001b[39mself\u001b[39;49m\u001b[39m.\u001b[39;49mtrain_function(iterator)\n\u001b[1;32m   <a href='file:///Users/anishafujii/opt/anaconda3/lib/python3.9/site-packages/keras/engine/training.py?line=1685'>1686</a>\u001b[0m     \u001b[39mif\u001b[39;00m data_handler\u001b[39m.\u001b[39mshould_sync:\n\u001b[1;32m   <a href='file:///Users/anishafujii/opt/anaconda3/lib/python3.9/site-packages/keras/engine/training.py?line=1686'>1687</a>\u001b[0m         context\u001b[39m.\u001b[39masync_wait()\n",
      "File \u001b[0;32m~/opt/anaconda3/lib/python3.9/site-packages/tensorflow/python/util/traceback_utils.py:150\u001b[0m, in \u001b[0;36mfilter_traceback.<locals>.error_handler\u001b[0;34m(*args, **kwargs)\u001b[0m\n\u001b[1;32m    <a href='file:///Users/anishafujii/opt/anaconda3/lib/python3.9/site-packages/tensorflow/python/util/traceback_utils.py?line=147'>148</a>\u001b[0m filtered_tb \u001b[39m=\u001b[39m \u001b[39mNone\u001b[39;00m\n\u001b[1;32m    <a href='file:///Users/anishafujii/opt/anaconda3/lib/python3.9/site-packages/tensorflow/python/util/traceback_utils.py?line=148'>149</a>\u001b[0m \u001b[39mtry\u001b[39;00m:\n\u001b[0;32m--> <a href='file:///Users/anishafujii/opt/anaconda3/lib/python3.9/site-packages/tensorflow/python/util/traceback_utils.py?line=149'>150</a>\u001b[0m   \u001b[39mreturn\u001b[39;00m fn(\u001b[39m*\u001b[39;49margs, \u001b[39m*\u001b[39;49m\u001b[39m*\u001b[39;49mkwargs)\n\u001b[1;32m    <a href='file:///Users/anishafujii/opt/anaconda3/lib/python3.9/site-packages/tensorflow/python/util/traceback_utils.py?line=150'>151</a>\u001b[0m \u001b[39mexcept\u001b[39;00m \u001b[39mException\u001b[39;00m \u001b[39mas\u001b[39;00m e:\n\u001b[1;32m    <a href='file:///Users/anishafujii/opt/anaconda3/lib/python3.9/site-packages/tensorflow/python/util/traceback_utils.py?line=151'>152</a>\u001b[0m   filtered_tb \u001b[39m=\u001b[39m _process_traceback_frames(e\u001b[39m.\u001b[39m__traceback__)\n",
      "File \u001b[0;32m~/opt/anaconda3/lib/python3.9/site-packages/tensorflow/python/eager/polymorphic_function/polymorphic_function.py:894\u001b[0m, in \u001b[0;36mFunction.__call__\u001b[0;34m(self, *args, **kwds)\u001b[0m\n\u001b[1;32m    <a href='file:///Users/anishafujii/opt/anaconda3/lib/python3.9/site-packages/tensorflow/python/eager/polymorphic_function/polymorphic_function.py?line=890'>891</a>\u001b[0m compiler \u001b[39m=\u001b[39m \u001b[39m\"\u001b[39m\u001b[39mxla\u001b[39m\u001b[39m\"\u001b[39m \u001b[39mif\u001b[39;00m \u001b[39mself\u001b[39m\u001b[39m.\u001b[39m_jit_compile \u001b[39melse\u001b[39;00m \u001b[39m\"\u001b[39m\u001b[39mnonXla\u001b[39m\u001b[39m\"\u001b[39m\n\u001b[1;32m    <a href='file:///Users/anishafujii/opt/anaconda3/lib/python3.9/site-packages/tensorflow/python/eager/polymorphic_function/polymorphic_function.py?line=892'>893</a>\u001b[0m \u001b[39mwith\u001b[39;00m OptionalXlaContext(\u001b[39mself\u001b[39m\u001b[39m.\u001b[39m_jit_compile):\n\u001b[0;32m--> <a href='file:///Users/anishafujii/opt/anaconda3/lib/python3.9/site-packages/tensorflow/python/eager/polymorphic_function/polymorphic_function.py?line=893'>894</a>\u001b[0m   result \u001b[39m=\u001b[39m \u001b[39mself\u001b[39;49m\u001b[39m.\u001b[39;49m_call(\u001b[39m*\u001b[39;49margs, \u001b[39m*\u001b[39;49m\u001b[39m*\u001b[39;49mkwds)\n\u001b[1;32m    <a href='file:///Users/anishafujii/opt/anaconda3/lib/python3.9/site-packages/tensorflow/python/eager/polymorphic_function/polymorphic_function.py?line=895'>896</a>\u001b[0m new_tracing_count \u001b[39m=\u001b[39m \u001b[39mself\u001b[39m\u001b[39m.\u001b[39mexperimental_get_tracing_count()\n\u001b[1;32m    <a href='file:///Users/anishafujii/opt/anaconda3/lib/python3.9/site-packages/tensorflow/python/eager/polymorphic_function/polymorphic_function.py?line=896'>897</a>\u001b[0m without_tracing \u001b[39m=\u001b[39m (tracing_count \u001b[39m==\u001b[39m new_tracing_count)\n",
      "File \u001b[0;32m~/opt/anaconda3/lib/python3.9/site-packages/tensorflow/python/eager/polymorphic_function/polymorphic_function.py:926\u001b[0m, in \u001b[0;36mFunction._call\u001b[0;34m(self, *args, **kwds)\u001b[0m\n\u001b[1;32m    <a href='file:///Users/anishafujii/opt/anaconda3/lib/python3.9/site-packages/tensorflow/python/eager/polymorphic_function/polymorphic_function.py?line=922'>923</a>\u001b[0m   \u001b[39mself\u001b[39m\u001b[39m.\u001b[39m_lock\u001b[39m.\u001b[39mrelease()\n\u001b[1;32m    <a href='file:///Users/anishafujii/opt/anaconda3/lib/python3.9/site-packages/tensorflow/python/eager/polymorphic_function/polymorphic_function.py?line=923'>924</a>\u001b[0m   \u001b[39m# In this case we have created variables on the first call, so we run the\u001b[39;00m\n\u001b[1;32m    <a href='file:///Users/anishafujii/opt/anaconda3/lib/python3.9/site-packages/tensorflow/python/eager/polymorphic_function/polymorphic_function.py?line=924'>925</a>\u001b[0m   \u001b[39m# defunned version which is guaranteed to never create variables.\u001b[39;00m\n\u001b[0;32m--> <a href='file:///Users/anishafujii/opt/anaconda3/lib/python3.9/site-packages/tensorflow/python/eager/polymorphic_function/polymorphic_function.py?line=925'>926</a>\u001b[0m   \u001b[39mreturn\u001b[39;00m \u001b[39mself\u001b[39;49m\u001b[39m.\u001b[39;49m_no_variable_creation_fn(\u001b[39m*\u001b[39;49margs, \u001b[39m*\u001b[39;49m\u001b[39m*\u001b[39;49mkwds)  \u001b[39m# pylint: disable=not-callable\u001b[39;00m\n\u001b[1;32m    <a href='file:///Users/anishafujii/opt/anaconda3/lib/python3.9/site-packages/tensorflow/python/eager/polymorphic_function/polymorphic_function.py?line=926'>927</a>\u001b[0m \u001b[39melif\u001b[39;00m \u001b[39mself\u001b[39m\u001b[39m.\u001b[39m_variable_creation_fn \u001b[39mis\u001b[39;00m \u001b[39mnot\u001b[39;00m \u001b[39mNone\u001b[39;00m:\n\u001b[1;32m    <a href='file:///Users/anishafujii/opt/anaconda3/lib/python3.9/site-packages/tensorflow/python/eager/polymorphic_function/polymorphic_function.py?line=927'>928</a>\u001b[0m   \u001b[39m# Release the lock early so that multiple threads can perform the call\u001b[39;00m\n\u001b[1;32m    <a href='file:///Users/anishafujii/opt/anaconda3/lib/python3.9/site-packages/tensorflow/python/eager/polymorphic_function/polymorphic_function.py?line=928'>929</a>\u001b[0m   \u001b[39m# in parallel.\u001b[39;00m\n\u001b[1;32m    <a href='file:///Users/anishafujii/opt/anaconda3/lib/python3.9/site-packages/tensorflow/python/eager/polymorphic_function/polymorphic_function.py?line=929'>930</a>\u001b[0m   \u001b[39mself\u001b[39m\u001b[39m.\u001b[39m_lock\u001b[39m.\u001b[39mrelease()\n",
      "File \u001b[0;32m~/opt/anaconda3/lib/python3.9/site-packages/tensorflow/python/eager/polymorphic_function/tracing_compiler.py:143\u001b[0m, in \u001b[0;36mTracingCompiler.__call__\u001b[0;34m(self, *args, **kwargs)\u001b[0m\n\u001b[1;32m    <a href='file:///Users/anishafujii/opt/anaconda3/lib/python3.9/site-packages/tensorflow/python/eager/polymorphic_function/tracing_compiler.py?line=139'>140</a>\u001b[0m \u001b[39mwith\u001b[39;00m \u001b[39mself\u001b[39m\u001b[39m.\u001b[39m_lock:\n\u001b[1;32m    <a href='file:///Users/anishafujii/opt/anaconda3/lib/python3.9/site-packages/tensorflow/python/eager/polymorphic_function/tracing_compiler.py?line=140'>141</a>\u001b[0m   (concrete_function,\n\u001b[1;32m    <a href='file:///Users/anishafujii/opt/anaconda3/lib/python3.9/site-packages/tensorflow/python/eager/polymorphic_function/tracing_compiler.py?line=141'>142</a>\u001b[0m    filtered_flat_args) \u001b[39m=\u001b[39m \u001b[39mself\u001b[39m\u001b[39m.\u001b[39m_maybe_define_function(args, kwargs)\n\u001b[0;32m--> <a href='file:///Users/anishafujii/opt/anaconda3/lib/python3.9/site-packages/tensorflow/python/eager/polymorphic_function/tracing_compiler.py?line=142'>143</a>\u001b[0m \u001b[39mreturn\u001b[39;00m concrete_function\u001b[39m.\u001b[39;49m_call_flat(\n\u001b[1;32m    <a href='file:///Users/anishafujii/opt/anaconda3/lib/python3.9/site-packages/tensorflow/python/eager/polymorphic_function/tracing_compiler.py?line=143'>144</a>\u001b[0m     filtered_flat_args, captured_inputs\u001b[39m=\u001b[39;49mconcrete_function\u001b[39m.\u001b[39;49mcaptured_inputs)\n",
      "File \u001b[0;32m~/opt/anaconda3/lib/python3.9/site-packages/tensorflow/python/eager/polymorphic_function/monomorphic_function.py:1757\u001b[0m, in \u001b[0;36mConcreteFunction._call_flat\u001b[0;34m(self, args, captured_inputs, cancellation_manager)\u001b[0m\n\u001b[1;32m   <a href='file:///Users/anishafujii/opt/anaconda3/lib/python3.9/site-packages/tensorflow/python/eager/polymorphic_function/monomorphic_function.py?line=1752'>1753</a>\u001b[0m possible_gradient_type \u001b[39m=\u001b[39m gradients_util\u001b[39m.\u001b[39mPossibleTapeGradientTypes(args)\n\u001b[1;32m   <a href='file:///Users/anishafujii/opt/anaconda3/lib/python3.9/site-packages/tensorflow/python/eager/polymorphic_function/monomorphic_function.py?line=1753'>1754</a>\u001b[0m \u001b[39mif\u001b[39;00m (possible_gradient_type \u001b[39m==\u001b[39m gradients_util\u001b[39m.\u001b[39mPOSSIBLE_GRADIENT_TYPES_NONE\n\u001b[1;32m   <a href='file:///Users/anishafujii/opt/anaconda3/lib/python3.9/site-packages/tensorflow/python/eager/polymorphic_function/monomorphic_function.py?line=1754'>1755</a>\u001b[0m     \u001b[39mand\u001b[39;00m executing_eagerly):\n\u001b[1;32m   <a href='file:///Users/anishafujii/opt/anaconda3/lib/python3.9/site-packages/tensorflow/python/eager/polymorphic_function/monomorphic_function.py?line=1755'>1756</a>\u001b[0m   \u001b[39m# No tape is watching; skip to running the function.\u001b[39;00m\n\u001b[0;32m-> <a href='file:///Users/anishafujii/opt/anaconda3/lib/python3.9/site-packages/tensorflow/python/eager/polymorphic_function/monomorphic_function.py?line=1756'>1757</a>\u001b[0m   \u001b[39mreturn\u001b[39;00m \u001b[39mself\u001b[39m\u001b[39m.\u001b[39m_build_call_outputs(\u001b[39mself\u001b[39;49m\u001b[39m.\u001b[39;49m_inference_function\u001b[39m.\u001b[39;49mcall(\n\u001b[1;32m   <a href='file:///Users/anishafujii/opt/anaconda3/lib/python3.9/site-packages/tensorflow/python/eager/polymorphic_function/monomorphic_function.py?line=1757'>1758</a>\u001b[0m       ctx, args, cancellation_manager\u001b[39m=\u001b[39;49mcancellation_manager))\n\u001b[1;32m   <a href='file:///Users/anishafujii/opt/anaconda3/lib/python3.9/site-packages/tensorflow/python/eager/polymorphic_function/monomorphic_function.py?line=1758'>1759</a>\u001b[0m forward_backward \u001b[39m=\u001b[39m \u001b[39mself\u001b[39m\u001b[39m.\u001b[39m_select_forward_and_backward_functions(\n\u001b[1;32m   <a href='file:///Users/anishafujii/opt/anaconda3/lib/python3.9/site-packages/tensorflow/python/eager/polymorphic_function/monomorphic_function.py?line=1759'>1760</a>\u001b[0m     args,\n\u001b[1;32m   <a href='file:///Users/anishafujii/opt/anaconda3/lib/python3.9/site-packages/tensorflow/python/eager/polymorphic_function/monomorphic_function.py?line=1760'>1761</a>\u001b[0m     possible_gradient_type,\n\u001b[1;32m   <a href='file:///Users/anishafujii/opt/anaconda3/lib/python3.9/site-packages/tensorflow/python/eager/polymorphic_function/monomorphic_function.py?line=1761'>1762</a>\u001b[0m     executing_eagerly)\n\u001b[1;32m   <a href='file:///Users/anishafujii/opt/anaconda3/lib/python3.9/site-packages/tensorflow/python/eager/polymorphic_function/monomorphic_function.py?line=1762'>1763</a>\u001b[0m forward_function, args_with_tangents \u001b[39m=\u001b[39m forward_backward\u001b[39m.\u001b[39mforward()\n",
      "File \u001b[0;32m~/opt/anaconda3/lib/python3.9/site-packages/tensorflow/python/eager/polymorphic_function/monomorphic_function.py:381\u001b[0m, in \u001b[0;36m_EagerDefinedFunction.call\u001b[0;34m(self, ctx, args, cancellation_manager)\u001b[0m\n\u001b[1;32m    <a href='file:///Users/anishafujii/opt/anaconda3/lib/python3.9/site-packages/tensorflow/python/eager/polymorphic_function/monomorphic_function.py?line=378'>379</a>\u001b[0m \u001b[39mwith\u001b[39;00m _InterpolateFunctionError(\u001b[39mself\u001b[39m):\n\u001b[1;32m    <a href='file:///Users/anishafujii/opt/anaconda3/lib/python3.9/site-packages/tensorflow/python/eager/polymorphic_function/monomorphic_function.py?line=379'>380</a>\u001b[0m   \u001b[39mif\u001b[39;00m cancellation_manager \u001b[39mis\u001b[39;00m \u001b[39mNone\u001b[39;00m:\n\u001b[0;32m--> <a href='file:///Users/anishafujii/opt/anaconda3/lib/python3.9/site-packages/tensorflow/python/eager/polymorphic_function/monomorphic_function.py?line=380'>381</a>\u001b[0m     outputs \u001b[39m=\u001b[39m execute\u001b[39m.\u001b[39;49mexecute(\n\u001b[1;32m    <a href='file:///Users/anishafujii/opt/anaconda3/lib/python3.9/site-packages/tensorflow/python/eager/polymorphic_function/monomorphic_function.py?line=381'>382</a>\u001b[0m         \u001b[39mstr\u001b[39;49m(\u001b[39mself\u001b[39;49m\u001b[39m.\u001b[39;49msignature\u001b[39m.\u001b[39;49mname),\n\u001b[1;32m    <a href='file:///Users/anishafujii/opt/anaconda3/lib/python3.9/site-packages/tensorflow/python/eager/polymorphic_function/monomorphic_function.py?line=382'>383</a>\u001b[0m         num_outputs\u001b[39m=\u001b[39;49m\u001b[39mself\u001b[39;49m\u001b[39m.\u001b[39;49m_num_outputs,\n\u001b[1;32m    <a href='file:///Users/anishafujii/opt/anaconda3/lib/python3.9/site-packages/tensorflow/python/eager/polymorphic_function/monomorphic_function.py?line=383'>384</a>\u001b[0m         inputs\u001b[39m=\u001b[39;49margs,\n\u001b[1;32m    <a href='file:///Users/anishafujii/opt/anaconda3/lib/python3.9/site-packages/tensorflow/python/eager/polymorphic_function/monomorphic_function.py?line=384'>385</a>\u001b[0m         attrs\u001b[39m=\u001b[39;49mattrs,\n\u001b[1;32m    <a href='file:///Users/anishafujii/opt/anaconda3/lib/python3.9/site-packages/tensorflow/python/eager/polymorphic_function/monomorphic_function.py?line=385'>386</a>\u001b[0m         ctx\u001b[39m=\u001b[39;49mctx)\n\u001b[1;32m    <a href='file:///Users/anishafujii/opt/anaconda3/lib/python3.9/site-packages/tensorflow/python/eager/polymorphic_function/monomorphic_function.py?line=386'>387</a>\u001b[0m   \u001b[39melse\u001b[39;00m:\n\u001b[1;32m    <a href='file:///Users/anishafujii/opt/anaconda3/lib/python3.9/site-packages/tensorflow/python/eager/polymorphic_function/monomorphic_function.py?line=387'>388</a>\u001b[0m     outputs \u001b[39m=\u001b[39m execute\u001b[39m.\u001b[39mexecute_with_cancellation(\n\u001b[1;32m    <a href='file:///Users/anishafujii/opt/anaconda3/lib/python3.9/site-packages/tensorflow/python/eager/polymorphic_function/monomorphic_function.py?line=388'>389</a>\u001b[0m         \u001b[39mstr\u001b[39m(\u001b[39mself\u001b[39m\u001b[39m.\u001b[39msignature\u001b[39m.\u001b[39mname),\n\u001b[1;32m    <a href='file:///Users/anishafujii/opt/anaconda3/lib/python3.9/site-packages/tensorflow/python/eager/polymorphic_function/monomorphic_function.py?line=389'>390</a>\u001b[0m         num_outputs\u001b[39m=\u001b[39m\u001b[39mself\u001b[39m\u001b[39m.\u001b[39m_num_outputs,\n\u001b[0;32m   (...)\u001b[0m\n\u001b[1;32m    <a href='file:///Users/anishafujii/opt/anaconda3/lib/python3.9/site-packages/tensorflow/python/eager/polymorphic_function/monomorphic_function.py?line=392'>393</a>\u001b[0m         ctx\u001b[39m=\u001b[39mctx,\n\u001b[1;32m    <a href='file:///Users/anishafujii/opt/anaconda3/lib/python3.9/site-packages/tensorflow/python/eager/polymorphic_function/monomorphic_function.py?line=393'>394</a>\u001b[0m         cancellation_manager\u001b[39m=\u001b[39mcancellation_manager)\n",
      "File \u001b[0;32m~/opt/anaconda3/lib/python3.9/site-packages/tensorflow/python/eager/execute.py:52\u001b[0m, in \u001b[0;36mquick_execute\u001b[0;34m(op_name, num_outputs, inputs, attrs, ctx, name)\u001b[0m\n\u001b[1;32m     <a href='file:///Users/anishafujii/opt/anaconda3/lib/python3.9/site-packages/tensorflow/python/eager/execute.py?line=49'>50</a>\u001b[0m \u001b[39mtry\u001b[39;00m:\n\u001b[1;32m     <a href='file:///Users/anishafujii/opt/anaconda3/lib/python3.9/site-packages/tensorflow/python/eager/execute.py?line=50'>51</a>\u001b[0m   ctx\u001b[39m.\u001b[39mensure_initialized()\n\u001b[0;32m---> <a href='file:///Users/anishafujii/opt/anaconda3/lib/python3.9/site-packages/tensorflow/python/eager/execute.py?line=51'>52</a>\u001b[0m   tensors \u001b[39m=\u001b[39m pywrap_tfe\u001b[39m.\u001b[39;49mTFE_Py_Execute(ctx\u001b[39m.\u001b[39;49m_handle, device_name, op_name,\n\u001b[1;32m     <a href='file:///Users/anishafujii/opt/anaconda3/lib/python3.9/site-packages/tensorflow/python/eager/execute.py?line=52'>53</a>\u001b[0m                                       inputs, attrs, num_outputs)\n\u001b[1;32m     <a href='file:///Users/anishafujii/opt/anaconda3/lib/python3.9/site-packages/tensorflow/python/eager/execute.py?line=53'>54</a>\u001b[0m \u001b[39mexcept\u001b[39;00m core\u001b[39m.\u001b[39m_NotOkStatusException \u001b[39mas\u001b[39;00m e:\n\u001b[1;32m     <a href='file:///Users/anishafujii/opt/anaconda3/lib/python3.9/site-packages/tensorflow/python/eager/execute.py?line=54'>55</a>\u001b[0m   \u001b[39mif\u001b[39;00m name \u001b[39mis\u001b[39;00m \u001b[39mnot\u001b[39;00m \u001b[39mNone\u001b[39;00m:\n",
      "\u001b[0;31mKeyboardInterrupt\u001b[0m: "
     ]
    }
   ],
   "source": [
    "#this is where the code starts to differ a bit from the lstm model without hyperparameterization \n",
    "#this is also where I start to encounter errors \n",
    "\n",
    "#Deep Learning \n",
    "from sklearn.model_selection import train_test_split, GridSearchCV, RandomizedSearchCV\n",
    "from keras.wrappers.scikit_learn import KerasClassifier\n",
    "from keras.preprocessing.text import Tokenizer\n",
    "from keras.utils import pad_sequences\n",
    "from sklearn.model_selection import train_test_split\n",
    "from keras.utils.vis_utils import plot_model\n",
    "from keras.optimizers import Adam\n",
    "\n",
    "def create_model(num_lstm_units, dropout_rate, recurrent_dropout_rate, embedding_dim):\n",
    "    model = Sequential()\n",
    "    model.add(Embedding(len(tokenizer.index_word)+1,embedding_dim))\n",
    "    model.add(Bidirectional(LSTM(num_lstm_units, dropout=dropout_rate,recurrent_dropout=recurrent_dropout_rate)))\n",
    "    model.add(Dense(128, activation=\"relu\"))\n",
    "    model.add(Dense(1,activation=\"sigmoid\"))\n",
    "    #optimizer = Adam(learning_rate=learning_rate)\n",
    "    #model.compile(optimizer=optimizer,loss=\"binary_crossentropy\",metrics=[\"accuracy\"])\n",
    "    model.compile(\"adam\",loss=\"binary_crossentropy\",metrics=[\"accuracy\"])\n",
    "    return model\n",
    "#model.summary()\n",
    "#plot_model(model, to_file='model_plot.png', show_shapes=True, show_layer_names=True)\n",
    "\n",
    "\n",
    "# Define the hyperparameter search space\n",
    "param_grid = {\n",
    "    'num_lstm_units': [50, 100, 150],\n",
    "    'dropout_rate': [0, 0.2, 0.4],\n",
    "    'recurrent_dropout_rate': [0, 0.2, 0.4],\n",
    "    'embedding_dim': [64, 128, 256],\n",
    "    #'learning_rate': [0.001, 0.01, 0.1]\n",
    "}\n",
    "\n",
    "\n",
    "#Convert your Keras model into a scikit-learn compatible model\n",
    "model = KerasClassifier(build_fn=create_model, epochs=15, batch_size=64, verbose=0)\n",
    "\n",
    "\n",
    "# Perform the random search\n",
    "random_search = RandomizedSearchCV(model, param_distributions=param_grid, n_iter=10, cv=3)\n",
    "random_search.fit(X_train_seq_padded, y_train)\n",
    "\n",
    "# Print the best hyperparameters and the corresponding accuracy\n",
    "print(\"Best Hyperparameters: \", random_search.best_params_)\n",
    "print(\"Best Accuracy: \", random_search.best_score_)"
   ]
  },
  {
   "cell_type": "markdown",
   "metadata": {},
   "source": []
  },
  {
   "cell_type": "code",
   "execution_count": null,
   "metadata": {},
   "outputs": [],
   "source": []
  }
 ],
 "metadata": {
  "interpreter": {
   "hash": "12d913273d87088a36128e363d935d21bff2ebf90b623d46a92a7a27b424c02c"
  },
  "kernelspec": {
   "display_name": "Python 3.9.12 ('base')",
   "language": "python",
   "name": "python3"
  },
  "language_info": {
   "codemirror_mode": {
    "name": "ipython",
    "version": 3
   },
   "file_extension": ".py",
   "mimetype": "text/x-python",
   "name": "python",
   "nbconvert_exporter": "python",
   "pygments_lexer": "ipython3",
   "version": "3.9.12"
  },
  "orig_nbformat": 4
 },
 "nbformat": 4,
 "nbformat_minor": 2
}
